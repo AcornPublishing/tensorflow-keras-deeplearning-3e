{
  "nbformat": 4,
  "nbformat_minor": 0,
  "metadata": {
    "colab": {
      "name": "DBN.ipynb",
      "provenance": [],
      "collapsed_sections": []
    },
    "kernelspec": {
      "name": "python3",
      "display_name": "Python 3"
    },
    "language_info": {
      "name": "python"
    },
    "accelerator": "GPU"
  },
  "cells": [
    {
      "cell_type": "code",
      "execution_count": 1,
      "metadata": {
        "id": "uCQrVzZSoFi-"
      },
      "outputs": [],
      "source": [
        "import tensorflow as tf\n",
        "import numpy as np\n",
        "import matplotlib.pyplot as plt"
      ]
    },
    {
      "cell_type": "code",
      "source": [
        "(train_data, _), (test_data, _) =  tf.keras.datasets.mnist.load_data()\n",
        "train_data = train_data/np.float32(255)\n",
        "train_data = np.reshape(train_data, (train_data.shape[0], 784))\n",
        "\n",
        "\n",
        "test_data = test_data/np.float32(255)\n",
        "test_data = np.reshape(test_data, (test_data.shape[0], 784))"
      ],
      "metadata": {
        "id": "9os9_HheZzr_"
      },
      "execution_count": 2,
      "outputs": []
    },
    {
      "cell_type": "code",
      "source": [
        "#Class that defines the behavior of the RBM\n",
        "class RBM(object):\n",
        "    \n",
        "    def __init__(self, input_size, output_size, lr=1.0, batchsize=100):\n",
        "        \"\"\"\n",
        "        m: Number of neurons in visible layer\n",
        "        n: number of neurons in hidden layer\n",
        "        \"\"\"\n",
        "        #Defining the hyperparameters\n",
        "        self._input_size = input_size #Size of Visible\n",
        "        self._output_size = output_size #Size of outp\n",
        "        self.learning_rate = lr #The step used in gradient descent\n",
        "        self.batchsize = batchsize #The size of how much data will be used for training per sub iteration\n",
        "        \n",
        "        #Initializing weights and biases as matrices full of zeroes\n",
        "        self.w = tf.zeros([input_size, output_size], np.float32) #Creates and initializes the weights with 0\n",
        "        self.hb = tf.zeros([output_size], np.float32) #Creates and initializes the hidden biases with 0\n",
        "        self.vb = tf.zeros([input_size], np.float32) #Creates and initializes the visible biases with 0\n",
        "\n",
        "\n",
        "    #Forward Pass\n",
        "    def prob_h_given_v(self, visible, w, hb):\n",
        "        #Sigmoid \n",
        "        return tf.nn.sigmoid(tf.matmul(visible, w) + hb)\n",
        "\n",
        "    #Backward Pass\n",
        "    def prob_v_given_h(self, hidden, w, vb):\n",
        "        return tf.nn.sigmoid(tf.matmul(hidden, tf.transpose(w)) + vb)\n",
        "    \n",
        "    #Generate the sample probability\n",
        "    def sample_prob(self, probs):\n",
        "        return tf.nn.relu(tf.sign(probs - tf.random.uniform(tf.shape(probs))))\n",
        "\n",
        "    #Training method for the model\n",
        "    def train(self, X, epochs=10):\n",
        "               \n",
        "        loss = []\n",
        "        for epoch in range(epochs):\n",
        "            #For each step/batch\n",
        "            for start, end in zip(range(0, len(X), self.batchsize),range(self.batchsize,len(X), self.batchsize)):\n",
        "                batch = X[start:end]\n",
        "                    \n",
        "                #Initialize with sample probabilities\n",
        "                    \n",
        "                h0 = self.sample_prob(self.prob_h_given_v(batch, self.w, self.hb))\n",
        "                v1 = self.sample_prob(self.prob_v_given_h(h0, self.w, self.vb))\n",
        "                h1 = self.prob_h_given_v(v1, self.w, self.hb)\n",
        "                    \n",
        "                #Create the Gradients\n",
        "                positive_grad = tf.matmul(tf.transpose(batch), h0)\n",
        "                negative_grad = tf.matmul(tf.transpose(v1), h1)\n",
        "                    \n",
        "                #Update learning rates \n",
        "                self.w = self.w + self.learning_rate *(positive_grad - negative_grad) / tf.dtypes.cast(tf.shape(batch)[0],tf.float32)\n",
        "                self.vb = self.vb +  self.learning_rate * tf.reduce_mean(batch - v1, 0)\n",
        "                self.hb = self.hb +  self.learning_rate * tf.reduce_mean(h0 - h1, 0)\n",
        "                    \n",
        "            #Find the error rate\n",
        "            err = tf.reduce_mean(tf.square(batch - v1))\n",
        "            print ('Epoch: %d' % epoch,'reconstruction error: %f' % err)\n",
        "            loss.append(err)\n",
        "                    \n",
        "        return loss\n",
        "        \n",
        "    #Create expected output for our DBN\n",
        "    def rbm_output(self, X):\n",
        "        out = tf.nn.sigmoid(tf.matmul(X, self.w) + self.hb)\n",
        "        return out\n",
        "    \n",
        "    def rbm_reconstruct(self,X):\n",
        "        h = tf.nn.sigmoid(tf.matmul(X, self.w) + self.hb)\n",
        "        reconstruct = tf.nn.sigmoid(tf.matmul(h, tf.transpose(self.w)) + self.vb)\n",
        "        return reconstruct\n",
        "            "
      ],
      "metadata": {
        "id": "y9ALhkKMaKKW"
      },
      "execution_count": 3,
      "outputs": []
    },
    {
      "cell_type": "code",
      "source": [
        "RESHAPED = 784\n",
        "NB_CLASSES = 10   # number of outputs = number of digits\n",
        "\n",
        "(train_data, Y_train), (test_data, Y_test) =  tf.keras.datasets.mnist.load_data()\n",
        "train_data = train_data/np.float32(255)\n",
        "train_data = np.reshape(train_data, (train_data.shape[0], RESHAPED))\n",
        "Y_train = tf.keras.utils.to_categorical(Y_train, NB_CLASSES)\n",
        "Y_test = tf.keras.utils.to_categorical(Y_test, NB_CLASSES)\n",
        "\n",
        "test_data = test_data/np.float32(255)\n",
        "test_data = np.reshape(test_data, (test_data.shape[0], RESHAPED))"
      ],
      "metadata": {
        "id": "sEBIdtuGfUJt"
      },
      "execution_count": 4,
      "outputs": []
    },
    {
      "cell_type": "code",
      "source": [
        "RBM_hidden_sizes = [500, 200 , 50 ] #create 2 layers of RBM with size 400 and 100\n",
        "\n",
        "#Since we are training, set input as training data\n",
        "inpX = train_data\n",
        "\n",
        "#Create list to hold our RBMs\n",
        "rbm_list = []\n",
        "\n",
        "#Size of inputs is the number of inputs in the training set\n",
        "input_size = train_data.shape[1]\n",
        "\n",
        "#For each RBM we want to generate\n",
        "for i, size in enumerate(RBM_hidden_sizes):\n",
        "    print ('RBM: ',i,' ',input_size,'->', size)\n",
        "    rbm_list.append(RBM(input_size, size))\n",
        "    input_size = size\n"
      ],
      "metadata": {
        "colab": {
          "base_uri": "https://localhost:8080/"
        },
        "id": "zmEKFgGKfY3D",
        "outputId": "d101b1f7-4ee5-4747-e884-e1c92888da25"
      },
      "execution_count": 5,
      "outputs": [
        {
          "output_type": "stream",
          "name": "stdout",
          "text": [
            "RBM:  0   784 -> 500\n",
            "RBM:  1   500 -> 200\n",
            "RBM:  2   200 -> 50\n"
          ]
        }
      ]
    },
    {
      "cell_type": "code",
      "source": [
        "#For each RBM in our list\n",
        "for rbm in rbm_list:\n",
        "    print ('Next RBM:')\n",
        "    #Train a new one\n",
        "    rbm.train(tf.cast(inpX,tf.float32)) \n",
        "    #Return the output layer\n",
        "    inpX = rbm.rbm_output(inpX)"
      ],
      "metadata": {
        "colab": {
          "base_uri": "https://localhost:8080/"
        },
        "id": "76gVBUaSaUgz",
        "outputId": "98f15132-f2b5-4459-e07c-5da2c45c6ff6"
      },
      "execution_count": 6,
      "outputs": [
        {
          "output_type": "stream",
          "name": "stdout",
          "text": [
            "Next RBM:\n",
            "Epoch: 0 reconstruction error: 0.056434\n",
            "Epoch: 1 reconstruction error: 0.049873\n",
            "Epoch: 2 reconstruction error: 0.048256\n",
            "Epoch: 3 reconstruction error: 0.046911\n",
            "Epoch: 4 reconstruction error: 0.045232\n",
            "Epoch: 5 reconstruction error: 0.043050\n",
            "Epoch: 6 reconstruction error: 0.044899\n",
            "Epoch: 7 reconstruction error: 0.043522\n",
            "Epoch: 8 reconstruction error: 0.043156\n",
            "Epoch: 9 reconstruction error: 0.041891\n",
            "Next RBM:\n",
            "Epoch: 0 reconstruction error: 0.029479\n",
            "Epoch: 1 reconstruction error: 0.025730\n",
            "Epoch: 2 reconstruction error: 0.023860\n",
            "Epoch: 3 reconstruction error: 0.022723\n",
            "Epoch: 4 reconstruction error: 0.022520\n",
            "Epoch: 5 reconstruction error: 0.022282\n",
            "Epoch: 6 reconstruction error: 0.021761\n",
            "Epoch: 7 reconstruction error: 0.021179\n",
            "Epoch: 8 reconstruction error: 0.020641\n",
            "Epoch: 9 reconstruction error: 0.020910\n",
            "Next RBM:\n",
            "Epoch: 0 reconstruction error: 0.051618\n",
            "Epoch: 1 reconstruction error: 0.047273\n",
            "Epoch: 2 reconstruction error: 0.047277\n",
            "Epoch: 3 reconstruction error: 0.046827\n",
            "Epoch: 4 reconstruction error: 0.043969\n",
            "Epoch: 5 reconstruction error: 0.045904\n",
            "Epoch: 6 reconstruction error: 0.045189\n",
            "Epoch: 7 reconstruction error: 0.044312\n",
            "Epoch: 8 reconstruction error: 0.045055\n",
            "Epoch: 9 reconstruction error: 0.044185\n"
          ]
        }
      ]
    },
    {
      "cell_type": "code",
      "source": [
        "out = rbm_list[0].rbm_reconstruct(test_data)\n",
        "# Plotting original and reconstructed images\n",
        "row, col = 2, 8\n",
        "idx = np.random.randint(0, 100, row * col // 2)\n",
        "f, axarr = plt.subplots(row, col, sharex=True, sharey=True, figsize=(20,4))\n",
        "for fig, row in zip([test_data,out], axarr):\n",
        "    for i,ax in zip(idx,row):\n",
        "        ax.imshow(tf.reshape(fig[i],[28, 28]), cmap='Greys_r')\n",
        "        ax.get_xaxis().set_visible(False)\n",
        "        ax.get_yaxis().set_visible(False)\n"
      ],
      "metadata": {
        "colab": {
          "base_uri": "https://localhost:8080/",
          "height": 239
        },
        "id": "0-G_oy5TadA9",
        "outputId": "e9b68910-5bd8-47e5-ece1-2706837e214a"
      },
      "execution_count": 8,
      "outputs": [
        {
          "output_type": "display_data",
          "data": {
            "image/png": "[encoded data removed]",
            "text/plain": [
              "<Figure size 1440x288 with 16 Axes>"
            ]
          },
          "metadata": {
            "needs_background": "light"
          }
        }
      ]
    },
    {
      "cell_type": "code",
      "source": [
        ""
      ],
      "metadata": {
        "id": "XaUn5nFAhJ1j"
      },
      "execution_count": null,
      "outputs": []
    }
  ]
}