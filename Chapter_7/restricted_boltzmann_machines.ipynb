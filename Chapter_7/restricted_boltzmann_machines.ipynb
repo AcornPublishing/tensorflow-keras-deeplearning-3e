{
  "nbformat": 4,
  "nbformat_minor": 0,
  "metadata": {
    "colab": {
      "name": "restricted_boltzmann_machines.ipynb",
      "provenance": []
    },
    "kernelspec": {
      "name": "python3",
      "display_name": "Python 3"
    },
    "language_info": {
      "name": "python"
    },
    "accelerator": "GPU"
  },
  "cells": [
    {
      "cell_type": "code",
      "execution_count": 2,
      "metadata": {
        "id": "uCQrVzZSoFi-"
      },
      "outputs": [],
      "source": [
        "import tensorflow as tf\n",
        "import numpy as np\n",
        "import matplotlib.pyplot as plt"
      ]
    },
    {
      "cell_type": "code",
      "source": [
        "(train_data, _), (test_data, _) =  tf.keras.datasets.mnist.load_data()\n",
        "train_data = train_data/np.float32(255)\n",
        "train_data = np.reshape(train_data, (train_data.shape[0], 784))\n",
        "\n",
        "\n",
        "test_data = test_data/np.float32(255)\n",
        "test_data = np.reshape(test_data, (test_data.shape[0], 784))"
      ],
      "metadata": {
        "colab": {
          "base_uri": "https://localhost:8080/"
        },
        "id": "9os9_HheZzr_",
        "outputId": "8ba0b424-eebc-4c33-96c6-ab3de4064e5c"
      },
      "execution_count": 3,
      "outputs": [
        {
          "output_type": "stream",
          "name": "stdout",
          "text": [
            "Downloading data from https://storage.googleapis.com/tensorflow/tf-keras-datasets/mnist.npz\n",
            "11493376/11490434 [==============================] - 0s 0us/step\n",
            "11501568/11490434 [==============================] - 0s 0us/step\n"
          ]
        }
      ]
    },
    {
      "cell_type": "code",
      "source": [
        "#Class that defines the behavior of the RBM\n",
        "class RBM(object):\n",
        "    \n",
        "    def __init__(self, input_size, output_size, lr=1.0, batchsize=100):\n",
        "        \"\"\"\n",
        "        m: Number of neurons in visible layer\n",
        "        n: number of neurons in hidden layer\n",
        "        \"\"\"\n",
        "        #Defining the hyperparameters\n",
        "        self._input_size = input_size #Size of Visible\n",
        "        self._output_size = output_size #Size of outp\n",
        "        self.learning_rate = lr #The step used in gradient descent\n",
        "        self.batchsize = batchsize #The size of how much data will be used for training per sub iteration\n",
        "        \n",
        "        #Initializing weights and biases as matrices full of zeroes\n",
        "        self.w = tf.zeros([input_size, output_size], np.float32) #Creates and initializes the weights with 0\n",
        "        self.hb = tf.zeros([output_size], np.float32) #Creates and initializes the hidden biases with 0\n",
        "        self.vb = tf.zeros([input_size], np.float32) #Creates and initializes the visible biases with 0\n",
        "\n",
        "\n",
        "    #Forward Pass\n",
        "    def prob_h_given_v(self, visible, w, hb):\n",
        "        #Sigmoid \n",
        "        return tf.nn.sigmoid(tf.matmul(visible, w) + hb)\n",
        "\n",
        "    #Backward Pass\n",
        "    def prob_v_given_h(self, hidden, w, vb):\n",
        "        return tf.nn.sigmoid(tf.matmul(hidden, tf.transpose(w)) + vb)\n",
        "    \n",
        "    #Generate the sample probability\n",
        "    def sample_prob(self, probs):\n",
        "        return tf.nn.relu(tf.sign(probs - tf.random.uniform(tf.shape(probs))))\n",
        "\n",
        "    #Training method for the model\n",
        "    def train(self, X, epochs=10):\n",
        "               \n",
        "        loss = []\n",
        "        for epoch in range(epochs):\n",
        "            #For each step/batch\n",
        "            for start, end in zip(range(0, len(X), self.batchsize),range(self.batchsize,len(X), self.batchsize)):\n",
        "                batch = X[start:end]\n",
        "                    \n",
        "                #Initialize with sample probabilities\n",
        "                    \n",
        "                h0 = self.sample_prob(self.prob_h_given_v(batch, self.w, self.hb))\n",
        "                v1 = self.sample_prob(self.prob_v_given_h(h0, self.w, self.vb))\n",
        "                h1 = self.prob_h_given_v(v1, self.w, self.hb)\n",
        "                    \n",
        "                #Create the Gradients\n",
        "                positive_grad = tf.matmul(tf.transpose(batch), h0)\n",
        "                negative_grad = tf.matmul(tf.transpose(v1), h1)\n",
        "                    \n",
        "                #Update learning rates \n",
        "                self.w = self.w + self.learning_rate *(positive_grad - negative_grad) / tf.dtypes.cast(tf.shape(batch)[0],tf.float32)\n",
        "                self.vb = self.vb +  self.learning_rate * tf.reduce_mean(batch - v1, 0)\n",
        "                self.hb = self.hb +  self.learning_rate * tf.reduce_mean(h0 - h1, 0)\n",
        "                    \n",
        "            #Find the error rate\n",
        "            err = tf.reduce_mean(tf.square(batch - v1))\n",
        "            print ('Epoch: %d' % epoch,'reconstruction error: %f' % err)\n",
        "            loss.append(err)\n",
        "                    \n",
        "        return loss\n",
        "        \n",
        "    #Create expected output for our DBN\n",
        "    def rbm_output(self, X):\n",
        "        out = tf.nn.sigmoid(tf.matmul(X, self.w) + self.hb)\n",
        "        return out\n",
        "    \n",
        "    def rbm_reconstruct(self,X):\n",
        "        h = tf.nn.sigmoid(tf.matmul(X, self.w) + self.hb)\n",
        "        reconstruct = tf.nn.sigmoid(tf.matmul(h, tf.transpose(self.w)) + self.vb)\n",
        "        return reconstruct\n",
        "            "
      ],
      "metadata": {
        "id": "y9ALhkKMaKKW"
      },
      "execution_count": 4,
      "outputs": []
    },
    {
      "cell_type": "code",
      "source": [
        "#Size of inputs is the number of inputs in the training set\n",
        "input_size = train_data.shape[1]\n",
        "rbm = RBM(input_size, 200)\n",
        "\n",
        "err = rbm.train(train_data,50)"
      ],
      "metadata": {
        "colab": {
          "base_uri": "https://localhost:8080/"
        },
        "id": "76gVBUaSaUgz",
        "outputId": "3f387a06-4357-4363-9ef8-11e83bd58173"
      },
      "execution_count": 5,
      "outputs": [
        {
          "output_type": "stream",
          "name": "stdout",
          "text": [
            "Epoch: 0 reconstruction error: 0.059060\n",
            "Epoch: 1 reconstruction error: 0.053532\n",
            "Epoch: 2 reconstruction error: 0.051043\n",
            "Epoch: 3 reconstruction error: 0.049189\n",
            "Epoch: 4 reconstruction error: 0.046627\n",
            "Epoch: 5 reconstruction error: 0.047418\n",
            "Epoch: 6 reconstruction error: 0.046459\n",
            "Epoch: 7 reconstruction error: 0.046383\n",
            "Epoch: 8 reconstruction error: 0.043315\n",
            "Epoch: 9 reconstruction error: 0.043287\n",
            "Epoch: 10 reconstruction error: 0.043188\n",
            "Epoch: 11 reconstruction error: 0.044013\n",
            "Epoch: 12 reconstruction error: 0.043122\n",
            "Epoch: 13 reconstruction error: 0.043767\n",
            "Epoch: 14 reconstruction error: 0.043482\n",
            "Epoch: 15 reconstruction error: 0.042345\n",
            "Epoch: 16 reconstruction error: 0.041807\n",
            "Epoch: 17 reconstruction error: 0.041877\n",
            "Epoch: 18 reconstruction error: 0.041188\n",
            "Epoch: 19 reconstruction error: 0.041940\n",
            "Epoch: 20 reconstruction error: 0.041854\n",
            "Epoch: 21 reconstruction error: 0.042090\n",
            "Epoch: 22 reconstruction error: 0.041938\n",
            "Epoch: 23 reconstruction error: 0.041483\n",
            "Epoch: 24 reconstruction error: 0.041424\n",
            "Epoch: 25 reconstruction error: 0.040641\n",
            "Epoch: 26 reconstruction error: 0.040626\n",
            "Epoch: 27 reconstruction error: 0.042108\n",
            "Epoch: 28 reconstruction error: 0.041044\n",
            "Epoch: 29 reconstruction error: 0.040565\n",
            "Epoch: 30 reconstruction error: 0.041008\n",
            "Epoch: 31 reconstruction error: 0.041025\n",
            "Epoch: 32 reconstruction error: 0.039852\n",
            "Epoch: 33 reconstruction error: 0.040936\n",
            "Epoch: 34 reconstruction error: 0.040475\n",
            "Epoch: 35 reconstruction error: 0.040527\n",
            "Epoch: 36 reconstruction error: 0.040601\n",
            "Epoch: 37 reconstruction error: 0.041524\n",
            "Epoch: 38 reconstruction error: 0.040796\n",
            "Epoch: 39 reconstruction error: 0.039891\n",
            "Epoch: 40 reconstruction error: 0.040564\n",
            "Epoch: 41 reconstruction error: 0.041044\n",
            "Epoch: 42 reconstruction error: 0.042090\n",
            "Epoch: 43 reconstruction error: 0.039622\n",
            "Epoch: 44 reconstruction error: 0.040299\n",
            "Epoch: 45 reconstruction error: 0.039993\n",
            "Epoch: 46 reconstruction error: 0.040313\n",
            "Epoch: 47 reconstruction error: 0.039615\n",
            "Epoch: 48 reconstruction error: 0.039495\n",
            "Epoch: 49 reconstruction error: 0.040075\n"
          ]
        }
      ]
    },
    {
      "cell_type": "code",
      "source": [
        "plt.plot(err)\n",
        "plt.xlabel('epochs')\n",
        "plt.ylabel('cost')"
      ],
      "metadata": {
        "colab": {
          "base_uri": "https://localhost:8080/",
          "height": 301
        },
        "id": "AQa3aNTjaUJk",
        "outputId": "cccc9eb3-6d5a-4d4a-f050-ee473ea287e5"
      },
      "execution_count": 7,
      "outputs": [
        {
          "output_type": "execute_result",
          "data": {
            "text/plain": [
              "Text(0, 0.5, 'cost')"
            ]
          },
          "metadata": {},
          "execution_count": 7
        },
        {
          "output_type": "display_data",
          "data": {
            "image/png": "[encoded data removed]",
            "text/plain": [
              "<Figure size 432x288 with 1 Axes>"
            ]
          },
          "metadata": {
            "needs_background": "light"
          }
        }
      ]
    },
    {
      "cell_type": "code",
      "source": [
        "\n",
        "\n",
        "out = rbm.rbm_reconstruct(test_data)\n",
        "\n",
        "# Plotting original and reconstructed images\n",
        "row, col = 2, 8\n",
        "idx = np.random.randint(0, 100, row * col // 2)\n",
        "f, axarr = plt.subplots(row, col, sharex=True, sharey=True, figsize=(20,4))\n",
        "for fig, row in zip([test_data,out], axarr):\n",
        "    for i,ax in zip(idx,row):\n",
        "        ax.imshow(tf.reshape(fig[i],[28, 28]), cmap='Greys_r')\n",
        "        ax.get_xaxis().set_visible(False)\n",
        "        ax.get_yaxis().set_visible(False)\n",
        "\n"
      ],
      "metadata": {
        "colab": {
          "base_uri": "https://localhost:8080/",
          "height": 239
        },
        "id": "fzDte7X1ab4p",
        "outputId": "1bb52bb4-7504-460a-c542-0ceab5a946b3"
      },
      "execution_count": 6,
      "outputs": [
        {
          "output_type": "display_data",
          "data": {
            "image/png": "[encoded data removed]",
            "text/plain": [
              "<Figure size 1440x288 with 16 Axes>"
            ]
          },
          "metadata": {
            "needs_background": "light"
          }
        }
      ]
    },
    {
      "cell_type": "code",
      "source": [
        ""
      ],
      "metadata": {
        "id": "0-G_oy5TadA9"
      },
      "execution_count": null,
      "outputs": []
    }
  ]
}