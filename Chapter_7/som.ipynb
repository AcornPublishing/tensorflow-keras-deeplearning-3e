{
  "nbformat": 4,
  "nbformat_minor": 0,
  "metadata": {
    "colab": {
      "name": "som.ipynb",
      "provenance": []
    },
    "kernelspec": {
      "name": "python3",
      "display_name": "Python 3"
    },
    "language_info": {
      "name": "python"
    },
    "accelerator": "GPU"
  },
  "cells": [
    {
      "cell_type": "code",
      "execution_count": null,
      "metadata": {
        "id": "uCQrVzZSoFi-"
      },
      "outputs": [],
      "source": [
        "import tensorflow as tf\n",
        "import numpy as np\n",
        "import matplotlib.pyplot as plt"
      ]
    },
    {
      "cell_type": "code",
      "source": [
        "# Define the Winner Take All units\n",
        "class WTU(object):\n",
        "  def __init__(self, m, n, dim, num_iterations, eta = 0.5, sigma = None):\n",
        "    self._m = m\n",
        "    self._n = n\n",
        "    self._neighbourhood = []\n",
        "    self._topography = []\n",
        "    self._num_iterations = int(num_iterations) \n",
        "    self._learned = False\n",
        "    self.dim = dim\n",
        "    \n",
        "    self.eta = float(eta)\n",
        "        \n",
        "    if sigma is None:\n",
        "        sigma = max(m,n)/2.0    # Constant radius\n",
        "    else:\n",
        "        sigma = float(sigma)\n",
        "    self.sigma = sigma\n",
        "    \n",
        "        \n",
        "    print('Network created with dimensions',m,n)\n",
        "        \n",
        "    # Weight Matrix and the topography of neurons\n",
        "    self._W = tf.random.normal([m*n, dim], seed = 0)\n",
        "    self._topography = np.array(list(self._neuron_location(m, n)))\n",
        "          \n",
        "  def training(self,x, i):\n",
        "    m = self._m\n",
        "    n= self._n \n",
        "    \n",
        "    # Finding the Winner and its location\n",
        "    d = tf.sqrt(tf.reduce_sum(tf.pow(self._W - tf.stack([x for i in range(m*n)]),2),1))\n",
        "    self.WTU_idx = tf.argmin(d,0)\n",
        "    \n",
        "    slice_start = tf.pad(tf.reshape(self.WTU_idx, [1]),np.array([[0,1]]))\n",
        "    self.WTU_loc = tf.reshape(tf.slice(self._topography, slice_start,[1,2]), [2])\n",
        "    \n",
        "    \n",
        "    # Change learning rate and radius as a function of iterations\n",
        "    learning_rate = 1 - i/self._num_iterations\n",
        "    _eta_new = self.eta * learning_rate\n",
        "    _sigma_new = self.sigma * learning_rate\n",
        "    \n",
        "    \n",
        "    # Calculating Neighbourhood function\n",
        "    distance_square = tf.reduce_sum(tf.pow(tf.subtract(\n",
        "        self._topography, tf.stack([self.WTU_loc for i in range(m * n)])), 2), 1)\n",
        "    neighbourhood_func = tf.exp(tf.negative(tf.math.divide(tf.cast(\n",
        "        distance_square, \"float32\"), tf.pow(_sigma_new, 2))))\n",
        "    \n",
        "    # multiply learning rate with neighbourhood func\n",
        "    eta_into_Gamma = tf.multiply(_eta_new, neighbourhood_func)\n",
        "    \n",
        "    # Shape it so that it can be multiplied to calculate dW\n",
        "    weight_multiplier = tf.stack([tf.tile(tf.slice(\n",
        "        eta_into_Gamma, np.array([i]), np.array([1])), [self.dim])\n",
        "        for i in range(m * n)])\n",
        "    delta_W = tf.multiply(weight_multiplier,\n",
        "        tf.subtract(tf.stack([x for i in range(m * n)]),self._W))\n",
        "    new_W = self._W + delta_W\n",
        "    self._W = new_W\n",
        "            \n",
        "           \n",
        "  def fit(self, X):\n",
        "    for i in range(self._num_iterations):\n",
        "        for x in X:\n",
        "              self.training(x,i)\n",
        "        \n",
        "    \n",
        "    \n",
        "    # Store a centroid grid for easy retrieval\n",
        "    centroid_grid = [[] for i in range(self._m)]\n",
        "    self._Wts = list(self._W)\n",
        "    self._locations = list(self._topography)\n",
        "    for i, loc in enumerate(self._locations):\n",
        "        centroid_grid[loc[0]].append(self._Wts[i])\n",
        "    self._centroid_grid = centroid_grid\n",
        "\n",
        "    self._learned = True\n",
        "    \n",
        "  def winner(self, x):\n",
        "    idx = self.WTU_idx,self.WTU_loc\n",
        "    return idx\n",
        "             \n",
        "  def _neuron_location(self,m,n):\n",
        "        \n",
        "    for i in range(m):\n",
        "        for j in range(n):\n",
        "            yield np.array([i,j])\n",
        "                \n",
        "                \n",
        "  def get_centroids(self):\n",
        "       \n",
        "    if not self._learned:\n",
        "        raise ValueError(\"SOM not trained yet\")\n",
        "    return self._centroid_grid\n",
        "\n",
        "  def map_vects(self, X):\n",
        "       \n",
        "\n",
        "    if not self._learned:\n",
        "        raise ValueError(\"SOM not trained yet\")\n",
        "\n",
        "    to_return = []\n",
        "    for vect in X:\n",
        "        min_index = min([i for i in range(len(self._Wts))],\n",
        "                        key=lambda x: np.linalg.norm(vect -\n",
        "                                                      self._Wts[x]))\n",
        "        to_return.append(self._locations[min_index])\n",
        "\n",
        "    return to_return"
      ],
      "metadata": {
        "id": "LfVbZ2RfsOcD"
      },
      "execution_count": null,
      "outputs": []
    },
    {
      "cell_type": "code",
      "source": [
        "def normalize(df):\n",
        "    result = df.copy()\n",
        "    for feature_name in df.columns:\n",
        "        max_value = df[feature_name].max()\n",
        "        min_value = df[feature_name].min()\n",
        "        result[feature_name] = (df[feature_name] - min_value) / (max_value - min_value)\n",
        "    return result.astype(np.float32)\n",
        "\n"
      ],
      "metadata": {
        "id": "cS-woLe_FY3_"
      },
      "execution_count": null,
      "outputs": []
    },
    {
      "cell_type": "code",
      "source": [
        "!wget https://raw.githubusercontent.com/PacktPublishing/Deep-Learning-with-TensorFlow-2-and-Keras/master/Chapter%2010/colors.csv"
      ],
      "metadata": {
        "colab": {
          "base_uri": "https://localhost:8080/"
        },
        "id": "NzSNVbDQhP_i",
        "outputId": "573b1484-f064-41ae-afad-a4f8a0d83b8e"
      },
      "execution_count": null,
      "outputs": [
        {
          "output_type": "stream",
          "name": "stdout",
          "text": [
            "--2022-02-04 23:20:10--  https://raw.githubusercontent.com/PacktPublishing/Deep-Learning-with-TensorFlow-2-and-Keras/master/Chapter%2010/colors.csv\n",
            "Resolving raw.githubusercontent.com (raw.githubusercontent.com)... 185.199.109.133, 185.199.110.133, 185.199.111.133, ...\n",
            "Connecting to raw.githubusercontent.com (raw.githubusercontent.com)|185.199.109.133|:443... connected.\n",
            "HTTP request sent, awaiting response... 200 OK\n",
            "Length: 269 [text/plain]\n",
            "Saving to: ‘colors.csv’\n",
            "\n",
            "\rcolors.csv            0%[                    ]       0  --.-KB/s               \rcolors.csv          100%[===================>]     269  --.-KB/s    in 0s      \n",
            "\n",
            "2022-02-04 23:20:10 (12.1 MB/s) - ‘colors.csv’ saved [269/269]\n",
            "\n"
          ]
        }
      ]
    },
    {
      "cell_type": "code",
      "source": [
        "## Reading input data from file\n",
        "import pandas as pd\n",
        "\n",
        "df = pd.read_csv('colors.csv')  # The last column of data file is a label\n",
        "data = normalize(df[['R', 'G', 'B']]).values\n",
        "name = df['Color-Name'].values\n",
        "n_dim = len(df.columns) - 1"
      ],
      "metadata": {
        "id": "Q--S0j6pheFC"
      },
      "execution_count": null,
      "outputs": []
    },
    {
      "cell_type": "code",
      "source": [
        "# Data for Training\n",
        "colors = data\n",
        "color_names = name"
      ],
      "metadata": {
        "id": "AM7-1EvLFdWy"
      },
      "execution_count": null,
      "outputs": []
    },
    {
      "cell_type": "code",
      "source": [
        "%%time\n",
        "som = WTU(30, 30, n_dim, 400, sigma=10.0)\n",
        "som.fit(colors)"
      ],
      "metadata": {
        "id": "jm2pmkIiFgLQ",
        "colab": {
          "base_uri": "https://localhost:8080/"
        },
        "outputId": "5b9deb06-9916-4618-8de0-9bfeafad38a5"
      },
      "execution_count": null,
      "outputs": [
        {
          "output_type": "stream",
          "name": "stdout",
          "text": [
            "Network created with dimensions 30 30\n",
            "CPU times: user 1h 13min 56s, sys: 11min 38s, total: 1h 25min 35s\n",
            "Wall time: 1h 5min 6s\n"
          ]
        }
      ]
    },
    {
      "cell_type": "code",
      "source": [
        "# Get output grid\n",
        "image_grid = som.get_centroids()\n",
        "\n",
        "# Map colours to their closest neurons\n",
        "mapped = som.map_vects(colors)\n",
        "\n",
        "# Plot\n",
        "plt.imshow(image_grid)\n",
        "plt.title('Color Grid SOM')\n",
        "for i, m in enumerate(mapped):\n",
        "    plt.text(m[1], m[0], color_names[i], ha='center', va='center',\n",
        "             bbox=dict(facecolor='white', alpha=0.5, lw=0))"
      ],
      "metadata": {
        "id": "WYjBYz-IFlhD",
        "colab": {
          "base_uri": "https://localhost:8080/",
          "height": 281
        },
        "outputId": "4665102e-be12-4ac0-8a00-30405085c776"
      },
      "execution_count": null,
      "outputs": [
        {
          "output_type": "display_data",
          "data": {
            "image/png": "[encoded data removed]",
            "text/plain": [
              "<Figure size 432x288 with 1 Axes>"
            ]
          },
          "metadata": {
            "needs_background": "light"
          }
        }
      ]
    },
    {
      "cell_type": "code",
      "source": [
        "idx, loc = som.winner([0.5, 0.5, 0.5])\n",
        "print(idx, loc)\n"
      ],
      "metadata": {
        "id": "ot2hccceFqiR",
        "colab": {
          "base_uri": "https://localhost:8080/"
        },
        "outputId": "6137f955-508d-4f2c-f34c-c30c7ed8cc53"
      },
      "execution_count": null,
      "outputs": [
        {
          "output_type": "stream",
          "name": "stdout",
          "text": [
            "tf.Tensor(501, shape=(), dtype=int64) tf.Tensor([16 21], shape=(2,), dtype=int64)\n"
          ]
        }
      ]
    }
  ]
}