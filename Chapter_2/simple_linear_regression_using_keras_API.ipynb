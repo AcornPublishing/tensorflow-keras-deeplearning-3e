{
  "nbformat": 4,
  "nbformat_minor": 0,
  "metadata": {
    "colab": {
      "provenance": [],
      "collapsed_sections": []
    },
    "kernelspec": {
      "name": "python3",
      "display_name": "Python 3"
    },
    "language_info": {
      "name": "python"
    }
  },
  "cells": [
    {
      "cell_type": "code",
      "execution_count": 1,
      "metadata": {
        "id": "dSwpGifpB7W9"
      },
      "outputs": [],
      "source": [
        "import tensorflow as tf\n",
        "import numpy as np\n",
        "import matplotlib.pyplot as plt\n",
        "import pandas as pd\n",
        "import tensorflow.keras as K\n",
        "from tensorflow.keras.layers import Dense"
      ]
    },
    {
      "cell_type": "code",
      "source": [
        "#Generate a random data\n",
        "np.random.seed(0)\n",
        "area = 2.5 * np.random.randn(100) + 25\n",
        "price = 25 * area + 5 + np.random.randint(20,50, size = len(area))\n",
        "data = np.array([area, price])\n",
        "data = pd.DataFrame(data = data.T, columns=['area','price'])\n",
        "plt.scatter(data['area'], data['price'])\n",
        "plt.show()"
      ],
      "metadata": {
        "colab": {
          "base_uri": "https://localhost:8080/",
          "height": 265
        },
        "id": "t5PZJH8iCFma",
        "outputId": "b9a83c8d-1d29-4f91-cbcc-e642a1d5b17c"
      },
      "execution_count": 2,
      "outputs": [
        {
          "output_type": "display_data",
          "data": {
            "text/plain": [
              "<Figure size 432x288 with 1 Axes>"
            ],
            "image/png": "[encoded data removed]"
          },
          "metadata": {
            "needs_background": "light"
          }
        }
      ]
    },
    {
      "cell_type": "code",
      "source": [
        "data = (data - data.min()) / (data.max() - data.min())  #Normalize"
      ],
      "metadata": {
        "id": "_1MDPuLTW2Wy"
      },
      "execution_count": 3,
      "outputs": []
    },
    {
      "cell_type": "code",
      "source": [
        "model = K.Sequential([\n",
        "                      #normalizer,\n",
        "                      Dense(1, input_shape = [1,], activation=None)\n",
        "])\n",
        "model.summary()"
      ],
      "metadata": {
        "colab": {
          "base_uri": "https://localhost:8080/"
        },
        "id": "vfy1amXuCHBD",
        "outputId": "47165844-9e3b-481a-d156-5346961f8688"
      },
      "execution_count": 4,
      "outputs": [
        {
          "output_type": "stream",
          "name": "stdout",
          "text": [
            "Model: \"sequential\"\n",
            "_________________________________________________________________\n",
            " Layer (type)                Output Shape              Param #   \n",
            "=================================================================\n",
            " dense (Dense)               (None, 1)                 2         \n",
            "                                                                 \n",
            "=================================================================\n",
            "Total params: 2\n",
            "Trainable params: 2\n",
            "Non-trainable params: 0\n",
            "_________________________________________________________________\n"
          ]
        }
      ]
    },
    {
      "cell_type": "code",
      "source": [
        "model.compile(loss='mean_squared_error', optimizer='sgd')"
      ],
      "metadata": {
        "id": "lPF_CS2qCNjI"
      },
      "execution_count": 5,
      "outputs": []
    },
    {
      "cell_type": "code",
      "source": [
        "model.fit(x=data['area'],y=data['price'], epochs=100, batch_size=32, verbose=1, validation_split=0.2)"
      ],
      "metadata": {
        "colab": {
          "base_uri": "https://localhost:8080/"
        },
        "id": "AFVBcartVIrg",
        "outputId": "176133d4-76e7-4ef7-845b-e066c37713fc"
      },
      "execution_count": 6,
      "outputs": [
        {
          "output_type": "stream",
          "name": "stdout",
          "text": [
            "Epoch 1/100\n",
            "3/3 [==============================] - 2s 150ms/step - loss: 0.0223 - val_loss: 0.0224\n",
            "Epoch 2/100\n",
            "3/3 [==============================] - 0s 61ms/step - loss: 0.0197 - val_loss: 0.0196\n",
            "Epoch 3/100\n",
            "3/3 [==============================] - 0s 40ms/step - loss: 0.0174 - val_loss: 0.0173\n",
            "Epoch 4/100\n",
            "3/3 [==============================] - 0s 20ms/step - loss: 0.0155 - val_loss: 0.0153\n",
            "Epoch 5/100\n",
            "3/3 [==============================] - 0s 25ms/step - loss: 0.0138 - val_loss: 0.0136\n",
            "Epoch 6/100\n",
            "3/3 [==============================] - 0s 22ms/step - loss: 0.0124 - val_loss: 0.0122\n",
            "Epoch 7/100\n",
            "3/3 [==============================] - 0s 27ms/step - loss: 0.0113 - val_loss: 0.0110\n",
            "Epoch 8/100\n",
            "3/3 [==============================] - 0s 43ms/step - loss: 0.0102 - val_loss: 0.0099\n",
            "Epoch 9/100\n",
            "3/3 [==============================] - 0s 46ms/step - loss: 0.0094 - val_loss: 0.0090\n",
            "Epoch 10/100\n",
            "3/3 [==============================] - 0s 28ms/step - loss: 0.0087 - val_loss: 0.0083\n",
            "Epoch 11/100\n",
            "3/3 [==============================] - 0s 68ms/step - loss: 0.0080 - val_loss: 0.0076\n",
            "Epoch 12/100\n",
            "3/3 [==============================] - 0s 34ms/step - loss: 0.0075 - val_loss: 0.0070\n",
            "Epoch 13/100\n",
            "3/3 [==============================] - 0s 33ms/step - loss: 0.0070 - val_loss: 0.0065\n",
            "Epoch 14/100\n",
            "3/3 [==============================] - 0s 29ms/step - loss: 0.0066 - val_loss: 0.0060\n",
            "Epoch 15/100\n",
            "3/3 [==============================] - 0s 49ms/step - loss: 0.0062 - val_loss: 0.0056\n",
            "Epoch 16/100\n",
            "3/3 [==============================] - 0s 42ms/step - loss: 0.0059 - val_loss: 0.0053\n",
            "Epoch 17/100\n",
            "3/3 [==============================] - 0s 28ms/step - loss: 0.0057 - val_loss: 0.0050\n",
            "Epoch 18/100\n",
            "3/3 [==============================] - 0s 31ms/step - loss: 0.0055 - val_loss: 0.0048\n",
            "Epoch 19/100\n",
            "3/3 [==============================] - 0s 28ms/step - loss: 0.0053 - val_loss: 0.0045\n",
            "Epoch 20/100\n",
            "3/3 [==============================] - 0s 21ms/step - loss: 0.0051 - val_loss: 0.0044\n",
            "Epoch 21/100\n",
            "3/3 [==============================] - 0s 19ms/step - loss: 0.0050 - val_loss: 0.0042\n",
            "Epoch 22/100\n",
            "3/3 [==============================] - 0s 32ms/step - loss: 0.0048 - val_loss: 0.0041\n",
            "Epoch 23/100\n",
            "3/3 [==============================] - 0s 43ms/step - loss: 0.0047 - val_loss: 0.0040\n",
            "Epoch 24/100\n",
            "3/3 [==============================] - 0s 46ms/step - loss: 0.0047 - val_loss: 0.0038\n",
            "Epoch 25/100\n",
            "3/3 [==============================] - 0s 32ms/step - loss: 0.0046 - val_loss: 0.0037\n",
            "Epoch 26/100\n",
            "3/3 [==============================] - 0s 25ms/step - loss: 0.0045 - val_loss: 0.0036\n",
            "Epoch 27/100\n",
            "3/3 [==============================] - 0s 20ms/step - loss: 0.0044 - val_loss: 0.0036\n",
            "Epoch 28/100\n",
            "3/3 [==============================] - 0s 21ms/step - loss: 0.0044 - val_loss: 0.0035\n",
            "Epoch 29/100\n",
            "3/3 [==============================] - 0s 25ms/step - loss: 0.0043 - val_loss: 0.0034\n",
            "Epoch 30/100\n",
            "3/3 [==============================] - 0s 21ms/step - loss: 0.0043 - val_loss: 0.0034\n",
            "Epoch 31/100\n",
            "3/3 [==============================] - 0s 26ms/step - loss: 0.0042 - val_loss: 0.0033\n",
            "Epoch 32/100\n",
            "3/3 [==============================] - 0s 25ms/step - loss: 0.0042 - val_loss: 0.0033\n",
            "Epoch 33/100\n",
            "3/3 [==============================] - 0s 25ms/step - loss: 0.0041 - val_loss: 0.0032\n",
            "Epoch 34/100\n",
            "3/3 [==============================] - 0s 47ms/step - loss: 0.0041 - val_loss: 0.0032\n",
            "Epoch 35/100\n",
            "3/3 [==============================] - 0s 58ms/step - loss: 0.0041 - val_loss: 0.0032\n",
            "Epoch 36/100\n",
            "3/3 [==============================] - 0s 40ms/step - loss: 0.0041 - val_loss: 0.0031\n",
            "Epoch 37/100\n",
            "3/3 [==============================] - 0s 61ms/step - loss: 0.0040 - val_loss: 0.0031\n",
            "Epoch 38/100\n",
            "3/3 [==============================] - 0s 48ms/step - loss: 0.0040 - val_loss: 0.0031\n",
            "Epoch 39/100\n",
            "3/3 [==============================] - 0s 27ms/step - loss: 0.0040 - val_loss: 0.0030\n",
            "Epoch 40/100\n",
            "3/3 [==============================] - 0s 24ms/step - loss: 0.0040 - val_loss: 0.0030\n",
            "Epoch 41/100\n",
            "3/3 [==============================] - 0s 44ms/step - loss: 0.0039 - val_loss: 0.0030\n",
            "Epoch 42/100\n",
            "3/3 [==============================] - 0s 44ms/step - loss: 0.0039 - val_loss: 0.0030\n",
            "Epoch 43/100\n",
            "3/3 [==============================] - 0s 85ms/step - loss: 0.0039 - val_loss: 0.0029\n",
            "Epoch 44/100\n",
            "3/3 [==============================] - 0s 32ms/step - loss: 0.0039 - val_loss: 0.0029\n",
            "Epoch 45/100\n",
            "3/3 [==============================] - 0s 35ms/step - loss: 0.0039 - val_loss: 0.0029\n",
            "Epoch 46/100\n",
            "3/3 [==============================] - 0s 39ms/step - loss: 0.0039 - val_loss: 0.0029\n",
            "Epoch 47/100\n",
            "3/3 [==============================] - 0s 75ms/step - loss: 0.0038 - val_loss: 0.0029\n",
            "Epoch 48/100\n",
            "3/3 [==============================] - 0s 37ms/step - loss: 0.0038 - val_loss: 0.0029\n",
            "Epoch 49/100\n",
            "3/3 [==============================] - 0s 29ms/step - loss: 0.0038 - val_loss: 0.0029\n",
            "Epoch 50/100\n",
            "3/3 [==============================] - 0s 28ms/step - loss: 0.0038 - val_loss: 0.0028\n",
            "Epoch 51/100\n",
            "3/3 [==============================] - 0s 44ms/step - loss: 0.0038 - val_loss: 0.0028\n",
            "Epoch 52/100\n",
            "3/3 [==============================] - 0s 62ms/step - loss: 0.0038 - val_loss: 0.0028\n",
            "Epoch 53/100\n",
            "3/3 [==============================] - 0s 71ms/step - loss: 0.0038 - val_loss: 0.0028\n",
            "Epoch 54/100\n",
            "3/3 [==============================] - 0s 27ms/step - loss: 0.0037 - val_loss: 0.0028\n",
            "Epoch 55/100\n",
            "3/3 [==============================] - 0s 27ms/step - loss: 0.0037 - val_loss: 0.0028\n",
            "Epoch 56/100\n",
            "3/3 [==============================] - 0s 26ms/step - loss: 0.0037 - val_loss: 0.0028\n",
            "Epoch 57/100\n",
            "3/3 [==============================] - 0s 40ms/step - loss: 0.0037 - val_loss: 0.0028\n",
            "Epoch 58/100\n",
            "3/3 [==============================] - 0s 29ms/step - loss: 0.0037 - val_loss: 0.0028\n",
            "Epoch 59/100\n",
            "3/3 [==============================] - 0s 16ms/step - loss: 0.0037 - val_loss: 0.0027\n",
            "Epoch 60/100\n",
            "3/3 [==============================] - 0s 16ms/step - loss: 0.0037 - val_loss: 0.0027\n",
            "Epoch 61/100\n",
            "3/3 [==============================] - 0s 17ms/step - loss: 0.0037 - val_loss: 0.0027\n",
            "Epoch 62/100\n",
            "3/3 [==============================] - 0s 18ms/step - loss: 0.0037 - val_loss: 0.0027\n",
            "Epoch 63/100\n",
            "3/3 [==============================] - 0s 18ms/step - loss: 0.0036 - val_loss: 0.0027\n",
            "Epoch 64/100\n",
            "3/3 [==============================] - 0s 17ms/step - loss: 0.0036 - val_loss: 0.0027\n",
            "Epoch 65/100\n",
            "3/3 [==============================] - 0s 17ms/step - loss: 0.0036 - val_loss: 0.0027\n",
            "Epoch 66/100\n",
            "3/3 [==============================] - 0s 17ms/step - loss: 0.0036 - val_loss: 0.0027\n",
            "Epoch 67/100\n",
            "3/3 [==============================] - 0s 28ms/step - loss: 0.0036 - val_loss: 0.0027\n",
            "Epoch 68/100\n",
            "3/3 [==============================] - 0s 21ms/step - loss: 0.0036 - val_loss: 0.0027\n",
            "Epoch 69/100\n",
            "3/3 [==============================] - 0s 18ms/step - loss: 0.0036 - val_loss: 0.0026\n",
            "Epoch 70/100\n",
            "3/3 [==============================] - 0s 18ms/step - loss: 0.0036 - val_loss: 0.0026\n",
            "Epoch 71/100\n",
            "3/3 [==============================] - 0s 16ms/step - loss: 0.0036 - val_loss: 0.0026\n",
            "Epoch 72/100\n",
            "3/3 [==============================] - 0s 16ms/step - loss: 0.0035 - val_loss: 0.0026\n",
            "Epoch 73/100\n",
            "3/3 [==============================] - 0s 16ms/step - loss: 0.0035 - val_loss: 0.0026\n",
            "Epoch 74/100\n",
            "3/3 [==============================] - 0s 18ms/step - loss: 0.0035 - val_loss: 0.0026\n",
            "Epoch 75/100\n",
            "3/3 [==============================] - 0s 19ms/step - loss: 0.0035 - val_loss: 0.0026\n",
            "Epoch 76/100\n",
            "3/3 [==============================] - 0s 16ms/step - loss: 0.0035 - val_loss: 0.0026\n",
            "Epoch 77/100\n",
            "3/3 [==============================] - 0s 17ms/step - loss: 0.0035 - val_loss: 0.0026\n",
            "Epoch 78/100\n",
            "3/3 [==============================] - 0s 19ms/step - loss: 0.0035 - val_loss: 0.0026\n",
            "Epoch 79/100\n",
            "3/3 [==============================] - 0s 23ms/step - loss: 0.0035 - val_loss: 0.0026\n",
            "Epoch 80/100\n",
            "3/3 [==============================] - 0s 19ms/step - loss: 0.0035 - val_loss: 0.0025\n",
            "Epoch 81/100\n",
            "3/3 [==============================] - 0s 18ms/step - loss: 0.0034 - val_loss: 0.0025\n",
            "Epoch 82/100\n",
            "3/3 [==============================] - 0s 17ms/step - loss: 0.0034 - val_loss: 0.0025\n",
            "Epoch 83/100\n",
            "3/3 [==============================] - 0s 19ms/step - loss: 0.0034 - val_loss: 0.0025\n",
            "Epoch 84/100\n",
            "3/3 [==============================] - 0s 18ms/step - loss: 0.0034 - val_loss: 0.0025\n",
            "Epoch 85/100\n",
            "3/3 [==============================] - 0s 16ms/step - loss: 0.0034 - val_loss: 0.0025\n",
            "Epoch 86/100\n",
            "3/3 [==============================] - 0s 16ms/step - loss: 0.0034 - val_loss: 0.0025\n",
            "Epoch 87/100\n",
            "3/3 [==============================] - 0s 17ms/step - loss: 0.0034 - val_loss: 0.0025\n",
            "Epoch 88/100\n",
            "3/3 [==============================] - 0s 14ms/step - loss: 0.0034 - val_loss: 0.0025\n",
            "Epoch 89/100\n",
            "3/3 [==============================] - 0s 15ms/step - loss: 0.0034 - val_loss: 0.0025\n",
            "Epoch 90/100\n",
            "3/3 [==============================] - 0s 15ms/step - loss: 0.0033 - val_loss: 0.0025\n",
            "Epoch 91/100\n",
            "3/3 [==============================] - 0s 14ms/step - loss: 0.0033 - val_loss: 0.0025\n",
            "Epoch 92/100\n",
            "3/3 [==============================] - 0s 15ms/step - loss: 0.0033 - val_loss: 0.0024\n",
            "Epoch 93/100\n",
            "3/3 [==============================] - 0s 14ms/step - loss: 0.0033 - val_loss: 0.0024\n",
            "Epoch 94/100\n",
            "3/3 [==============================] - 0s 14ms/step - loss: 0.0033 - val_loss: 0.0024\n",
            "Epoch 95/100\n",
            "3/3 [==============================] - 0s 14ms/step - loss: 0.0033 - val_loss: 0.0024\n",
            "Epoch 96/100\n",
            "3/3 [==============================] - 0s 13ms/step - loss: 0.0033 - val_loss: 0.0024\n",
            "Epoch 97/100\n",
            "3/3 [==============================] - 0s 13ms/step - loss: 0.0033 - val_loss: 0.0024\n",
            "Epoch 98/100\n",
            "3/3 [==============================] - 0s 14ms/step - loss: 0.0033 - val_loss: 0.0024\n",
            "Epoch 99/100\n",
            "3/3 [==============================] - 0s 19ms/step - loss: 0.0033 - val_loss: 0.0024\n",
            "Epoch 100/100\n",
            "3/3 [==============================] - 0s 14ms/step - loss: 0.0032 - val_loss: 0.0024\n"
          ]
        },
        {
          "output_type": "execute_result",
          "data": {
            "text/plain": [
              "<keras.callbacks.History at 0x7f8e46138cd0>"
            ]
          },
          "metadata": {},
          "execution_count": 6
        }
      ]
    },
    {
      "cell_type": "code",
      "source": [
        "y_pred = model.predict(data['area'])"
      ],
      "metadata": {
        "id": "jE2w6574Y0pD"
      },
      "execution_count": 7,
      "outputs": []
    },
    {
      "cell_type": "code",
      "source": [
        "plt.plot(data['area'], y_pred, color='red',label=\"Predicted Price\")\n",
        "plt.scatter(data['area'], data['price'], label=\"Training Data\")\n",
        "plt.xlabel(\"Area\")\n",
        "plt.ylabel(\"Price\")\n",
        "plt.legend()"
      ],
      "metadata": {
        "colab": {
          "base_uri": "https://localhost:8080/",
          "height": 296
        },
        "id": "LDFVIsvYCRS4",
        "outputId": "c4501262-c8aa-4a9e-a659-87c34e2c09ad"
      },
      "execution_count": 8,
      "outputs": [
        {
          "output_type": "execute_result",
          "data": {
            "text/plain": [
              "<matplotlib.legend.Legend at 0x7f8e41edff90>"
            ]
          },
          "metadata": {},
          "execution_count": 8
        },
        {
          "output_type": "display_data",
          "data": {
            "text/plain": [
              "<Figure size 432x288 with 1 Axes>"
            ],
            "image/png": "[encoded data removed]"
          },
          "metadata": {
            "needs_background": "light"
          }
        }
      ]
    },
    {
      "cell_type": "code",
      "source": [
        "model.weights"
      ],
      "metadata": {
        "id": "bN433O3bCVmH",
        "colab": {
          "base_uri": "https://localhost:8080/"
        },
        "outputId": "1d68aebf-11f7-4c22-f056-df9918f7762c"
      },
      "execution_count": 9,
      "outputs": [
        {
          "output_type": "execute_result",
          "data": {
            "text/plain": [
              "[<tf.Variable 'dense/kernel:0' shape=(1, 1) dtype=float32, numpy=array([[0.7827941]], dtype=float32)>,\n",
              " <tf.Variable 'dense/bias:0' shape=(1,) dtype=float32, numpy=array([0.07712875], dtype=float32)>]"
            ]
          },
          "metadata": {},
          "execution_count": 9
        }
      ]
    },
    {
      "cell_type": "code",
      "source": [],
      "metadata": {
        "id": "nb22K749kzVK"
      },
      "execution_count": null,
      "outputs": []
    }
  ]
}