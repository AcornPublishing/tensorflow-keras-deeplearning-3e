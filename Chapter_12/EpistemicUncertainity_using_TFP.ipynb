{
  "nbformat": 4,
  "nbformat_minor": 0,
  "metadata": {
    "colab": {
      "name": "EpistemicUncertainity_using_TFP.ipynb",
      "provenance": []
    },
    "kernelspec": {
      "name": "python3",
      "display_name": "Python 3"
    },
    "language_info": {
      "name": "python"
    },
    "accelerator": "GPU"
  },
  "cells": [
    {
      "cell_type": "code",
      "execution_count": 1,
      "metadata": {
        "id": "4G1ty04DZmgD"
      },
      "outputs": [],
      "source": [
        "import tensorflow_probability as tfp\n",
        "import matplotlib.pyplot as plt\n",
        "import numpy as np\n",
        "import tensorflow as tf\n",
        "from tensorflow.keras.layers import Dense\n",
        "from tensorflow.keras import Sequential\n",
        "\n",
        "plt.rcParams.update({'font.size': 22})\n",
        "tfd = tfp.distributions"
      ]
    },
    {
      "cell_type": "code",
      "source": [
        "def create_dataset(n, x_range):\n",
        "    x_uniform_dist = tfd.Uniform(low=x_range[0], high=x_range[1])\n",
        "    x = x_uniform_dist.sample(n).numpy() [:, np.newaxis] \n",
        "    y_true = 2.7*x+3\n",
        "    eps_uniform_dist = tfd.Normal(loc=0, scale=1)\n",
        "    eps = eps_uniform_dist.sample(n).numpy() [:, np.newaxis] *0.74*x\n",
        "    y = y_true + eps\n",
        "    return x, y, y_true"
      ],
      "metadata": {
        "id": "SWaPaNrLZqQC"
      },
      "execution_count": 2,
      "outputs": []
    },
    {
      "cell_type": "code",
      "source": [
        "x_train, y_train, y_true = create_dataset(200, [-10, 10])\n",
        "x_val, y_val, _ = create_dataset(50, [-10, 10])"
      ],
      "metadata": {
        "id": "x8_X4l6oZs6p"
      },
      "execution_count": 3,
      "outputs": []
    },
    {
      "cell_type": "code",
      "source": [
        "def posterior_mean_field(kernel_size, bias_size=0, dtype=None):\n",
        "  n = kernel_size + bias_size\n",
        "  c = np.log(np.expm1(1.))\n",
        "  return Sequential([\n",
        "      tfp.layers.VariableLayer(2 * n, dtype=dtype),\n",
        "      tfp.layers.DistributionLambda(lambda t: tfd.Independent(\n",
        "          tfd.Normal(loc=t[..., :n],\n",
        "                     scale=1e-5 + tf.nn.softplus(c + t[..., n:])),\n",
        "          reinterpreted_batch_ndims=1)),\n",
        "  ])\n",
        "\n"
      ],
      "metadata": {
        "id": "HQfsS9xFaTTw"
      },
      "execution_count": 4,
      "outputs": []
    },
    {
      "cell_type": "code",
      "source": [
        "def prior_trainable(kernel_size, bias_size=0, dtype=None):\n",
        "  n = kernel_size + bias_size\n",
        "  return Sequential([\n",
        "      tfp.layers.VariableLayer(n, dtype=dtype),\n",
        "      tfp.layers.DistributionLambda(lambda t: tfd.Independent(\n",
        "          tfd.Normal(loc=t, scale=1),\n",
        "          reinterpreted_batch_ndims=1)),\n",
        "  ])"
      ],
      "metadata": {
        "id": "VvRFPE6WaVkS"
      },
      "execution_count": 5,
      "outputs": []
    },
    {
      "cell_type": "code",
      "source": [
        "negloglik = lambda y, rv_y: -rv_y.log_prob(y)"
      ],
      "metadata": {
        "id": "HmDVK-Sxa4Pt"
      },
      "execution_count": 6,
      "outputs": []
    },
    {
      "cell_type": "code",
      "source": [
        "# Build model.\n",
        "model = Sequential([\n",
        "  tfp.layers.DenseVariational(1, posterior_mean_field, prior_trainable, kl_weight=1/x_train.shape[0]),\n",
        "  tfp.layers.DistributionLambda(lambda t: tfd.Normal(loc=t, scale=1)),\n",
        "])\n",
        "\n",
        "# Do inference.\n",
        "model.compile(optimizer=tf.optimizers.Adam(learning_rate=0.01), loss=negloglik)\n",
        "model.fit(x_train, y_train, epochs=100, verbose=1)\n"
      ],
      "metadata": {
        "colab": {
          "base_uri": "https://localhost:8080/"
        },
        "id": "4XV1phBGaX3O",
        "outputId": "7f13b94d-99b5-47b1-8b01-4f96c030d8e6"
      },
      "execution_count": 7,
      "outputs": [
        {
          "output_type": "stream",
          "name": "stdout",
          "text": [
            "Epoch 1/100\n",
            "7/7 [==============================] - 2s 5ms/step - loss: 105.9423\n",
            "Epoch 2/100\n",
            "7/7 [==============================] - 0s 4ms/step - loss: 95.3668\n",
            "Epoch 3/100\n",
            "7/7 [==============================] - 0s 4ms/step - loss: 165.2451\n",
            "Epoch 4/100\n",
            "7/7 [==============================] - 0s 3ms/step - loss: 84.6878\n",
            "Epoch 5/100\n",
            "7/7 [==============================] - 0s 4ms/step - loss: 107.3117\n",
            "Epoch 6/100\n",
            "7/7 [==============================] - 0s 6ms/step - loss: 148.8506\n",
            "Epoch 7/100\n",
            "7/7 [==============================] - 0s 4ms/step - loss: 82.9009\n",
            "Epoch 8/100\n",
            "7/7 [==============================] - 0s 6ms/step - loss: 124.3439\n",
            "Epoch 9/100\n",
            "7/7 [==============================] - 0s 4ms/step - loss: 86.7174\n",
            "Epoch 10/100\n",
            "7/7 [==============================] - 0s 6ms/step - loss: 114.4306\n",
            "Epoch 11/100\n",
            "7/7 [==============================] - 0s 3ms/step - loss: 86.0139\n",
            "Epoch 12/100\n",
            "7/7 [==============================] - 0s 7ms/step - loss: 101.8409\n",
            "Epoch 13/100\n",
            "7/7 [==============================] - 0s 4ms/step - loss: 47.5221\n",
            "Epoch 14/100\n",
            "7/7 [==============================] - 0s 5ms/step - loss: 70.0958\n",
            "Epoch 15/100\n",
            "7/7 [==============================] - 0s 4ms/step - loss: 67.3382\n",
            "Epoch 16/100\n",
            "7/7 [==============================] - 0s 10ms/step - loss: 73.4330\n",
            "Epoch 17/100\n",
            "7/7 [==============================] - 0s 10ms/step - loss: 66.8816\n",
            "Epoch 18/100\n",
            "7/7 [==============================] - 0s 4ms/step - loss: 122.8234\n",
            "Epoch 19/100\n",
            "7/7 [==============================] - 0s 5ms/step - loss: 48.3485\n",
            "Epoch 20/100\n",
            "7/7 [==============================] - 0s 3ms/step - loss: 50.1044\n",
            "Epoch 21/100\n",
            "7/7 [==============================] - 0s 3ms/step - loss: 44.2613\n",
            "Epoch 22/100\n",
            "7/7 [==============================] - 0s 5ms/step - loss: 45.4326\n",
            "Epoch 23/100\n",
            "7/7 [==============================] - 0s 4ms/step - loss: 46.7494\n",
            "Epoch 24/100\n",
            "7/7 [==============================] - 0s 4ms/step - loss: 44.6786\n",
            "Epoch 25/100\n",
            "7/7 [==============================] - 0s 4ms/step - loss: 42.1986\n",
            "Epoch 26/100\n",
            "7/7 [==============================] - 0s 5ms/step - loss: 75.3863\n",
            "Epoch 27/100\n",
            "7/7 [==============================] - 0s 10ms/step - loss: 31.9284\n",
            "Epoch 28/100\n",
            "7/7 [==============================] - 0s 6ms/step - loss: 52.2608\n",
            "Epoch 29/100\n",
            "7/7 [==============================] - 0s 7ms/step - loss: 22.7110\n",
            "Epoch 30/100\n",
            "7/7 [==============================] - 0s 4ms/step - loss: 38.8599\n",
            "Epoch 31/100\n",
            "7/7 [==============================] - 0s 6ms/step - loss: 42.4106\n",
            "Epoch 32/100\n",
            "7/7 [==============================] - 0s 4ms/step - loss: 68.6138\n",
            "Epoch 33/100\n",
            "7/7 [==============================] - 0s 4ms/step - loss: 34.6534\n",
            "Epoch 34/100\n",
            "7/7 [==============================] - 0s 4ms/step - loss: 21.2779\n",
            "Epoch 35/100\n",
            "7/7 [==============================] - 0s 11ms/step - loss: 43.0191\n",
            "Epoch 36/100\n",
            "7/7 [==============================] - 0s 8ms/step - loss: 33.8675\n",
            "Epoch 37/100\n",
            "7/7 [==============================] - 0s 7ms/step - loss: 35.5059\n",
            "Epoch 38/100\n",
            "7/7 [==============================] - 0s 5ms/step - loss: 16.7992\n",
            "Epoch 39/100\n",
            "7/7 [==============================] - 0s 6ms/step - loss: 30.5495\n",
            "Epoch 40/100\n",
            "7/7 [==============================] - 0s 4ms/step - loss: 28.0394\n",
            "Epoch 41/100\n",
            "7/7 [==============================] - 0s 5ms/step - loss: 23.5324\n",
            "Epoch 42/100\n",
            "7/7 [==============================] - 0s 4ms/step - loss: 17.3416\n",
            "Epoch 43/100\n",
            "7/7 [==============================] - 0s 3ms/step - loss: 22.4220\n",
            "Epoch 44/100\n",
            "7/7 [==============================] - 0s 3ms/step - loss: 24.1170\n",
            "Epoch 45/100\n",
            "7/7 [==============================] - 0s 7ms/step - loss: 27.6891\n",
            "Epoch 46/100\n",
            "7/7 [==============================] - 0s 4ms/step - loss: 24.1661\n",
            "Epoch 47/100\n",
            "7/7 [==============================] - 0s 5ms/step - loss: 18.0621\n",
            "Epoch 48/100\n",
            "7/7 [==============================] - 0s 4ms/step - loss: 25.1593\n",
            "Epoch 49/100\n",
            "7/7 [==============================] - 0s 3ms/step - loss: 18.9544\n",
            "Epoch 50/100\n",
            "7/7 [==============================] - 0s 3ms/step - loss: 18.6385\n",
            "Epoch 51/100\n",
            "7/7 [==============================] - 0s 4ms/step - loss: 14.7291\n",
            "Epoch 52/100\n",
            "7/7 [==============================] - 0s 11ms/step - loss: 18.5963\n",
            "Epoch 53/100\n",
            "7/7 [==============================] - 0s 4ms/step - loss: 20.2471\n",
            "Epoch 54/100\n",
            "7/7 [==============================] - 0s 4ms/step - loss: 15.0606\n",
            "Epoch 55/100\n",
            "7/7 [==============================] - 0s 4ms/step - loss: 14.8719\n",
            "Epoch 56/100\n",
            "7/7 [==============================] - 0s 4ms/step - loss: 16.1488\n",
            "Epoch 57/100\n",
            "7/7 [==============================] - 0s 3ms/step - loss: 14.0186\n",
            "Epoch 58/100\n",
            "7/7 [==============================] - 0s 3ms/step - loss: 13.7640\n",
            "Epoch 59/100\n",
            "7/7 [==============================] - 0s 3ms/step - loss: 13.1258\n",
            "Epoch 60/100\n",
            "7/7 [==============================] - 0s 3ms/step - loss: 20.1404\n",
            "Epoch 61/100\n",
            "7/7 [==============================] - 0s 3ms/step - loss: 17.9217\n",
            "Epoch 62/100\n",
            "7/7 [==============================] - 0s 4ms/step - loss: 13.3381\n",
            "Epoch 63/100\n",
            "7/7 [==============================] - 0s 4ms/step - loss: 13.8089\n",
            "Epoch 64/100\n",
            "7/7 [==============================] - 0s 3ms/step - loss: 12.7516\n",
            "Epoch 65/100\n",
            "7/7 [==============================] - 0s 4ms/step - loss: 19.4160\n",
            "Epoch 66/100\n",
            "7/7 [==============================] - 0s 4ms/step - loss: 15.6475\n",
            "Epoch 67/100\n",
            "7/7 [==============================] - 0s 4ms/step - loss: 14.3082\n",
            "Epoch 68/100\n",
            "7/7 [==============================] - 0s 4ms/step - loss: 17.9367\n",
            "Epoch 69/100\n",
            "7/7 [==============================] - 0s 4ms/step - loss: 16.4367\n",
            "Epoch 70/100\n",
            "7/7 [==============================] - 0s 4ms/step - loss: 15.6049\n",
            "Epoch 71/100\n",
            "7/7 [==============================] - 0s 3ms/step - loss: 13.5553\n",
            "Epoch 72/100\n",
            "7/7 [==============================] - 0s 6ms/step - loss: 14.2167\n",
            "Epoch 73/100\n",
            "7/7 [==============================] - 0s 7ms/step - loss: 13.7477\n",
            "Epoch 74/100\n",
            "7/7 [==============================] - 0s 4ms/step - loss: 12.4278\n",
            "Epoch 75/100\n",
            "7/7 [==============================] - 0s 4ms/step - loss: 10.7623\n",
            "Epoch 76/100\n",
            "7/7 [==============================] - 0s 4ms/step - loss: 12.2781\n",
            "Epoch 77/100\n",
            "7/7 [==============================] - 0s 7ms/step - loss: 12.8337\n",
            "Epoch 78/100\n",
            "7/7 [==============================] - 0s 4ms/step - loss: 12.6577\n",
            "Epoch 79/100\n",
            "7/7 [==============================] - 0s 6ms/step - loss: 18.7101\n",
            "Epoch 80/100\n",
            "7/7 [==============================] - 0s 4ms/step - loss: 14.1303\n",
            "Epoch 81/100\n",
            "7/7 [==============================] - 0s 4ms/step - loss: 15.9224\n",
            "Epoch 82/100\n",
            "7/7 [==============================] - 0s 4ms/step - loss: 12.2894\n",
            "Epoch 83/100\n",
            "7/7 [==============================] - 0s 5ms/step - loss: 12.2600\n",
            "Epoch 84/100\n",
            "7/7 [==============================] - 0s 4ms/step - loss: 14.6504\n",
            "Epoch 85/100\n",
            "7/7 [==============================] - 0s 5ms/step - loss: 12.2607\n",
            "Epoch 86/100\n",
            "7/7 [==============================] - 0s 4ms/step - loss: 15.1249\n",
            "Epoch 87/100\n",
            "7/7 [==============================] - 0s 6ms/step - loss: 13.8616\n",
            "Epoch 88/100\n",
            "7/7 [==============================] - 0s 3ms/step - loss: 16.4207\n",
            "Epoch 89/100\n",
            "7/7 [==============================] - 0s 7ms/step - loss: 14.5905\n",
            "Epoch 90/100\n",
            "7/7 [==============================] - 0s 4ms/step - loss: 16.0630\n",
            "Epoch 91/100\n",
            "7/7 [==============================] - 0s 4ms/step - loss: 16.4947\n",
            "Epoch 92/100\n",
            "7/7 [==============================] - 0s 6ms/step - loss: 11.6828\n",
            "Epoch 93/100\n",
            "7/7 [==============================] - 0s 4ms/step - loss: 13.2753\n",
            "Epoch 94/100\n",
            "7/7 [==============================] - 0s 3ms/step - loss: 13.1334\n",
            "Epoch 95/100\n",
            "7/7 [==============================] - 0s 5ms/step - loss: 14.7167\n",
            "Epoch 96/100\n",
            "7/7 [==============================] - 0s 6ms/step - loss: 12.6260\n",
            "Epoch 97/100\n",
            "7/7 [==============================] - 0s 4ms/step - loss: 12.1518\n",
            "Epoch 98/100\n",
            "7/7 [==============================] - 0s 3ms/step - loss: 13.9851\n",
            "Epoch 99/100\n",
            "7/7 [==============================] - 0s 4ms/step - loss: 15.1539\n",
            "Epoch 100/100\n",
            "7/7 [==============================] - 0s 6ms/step - loss: 12.7543\n"
          ]
        },
        {
          "output_type": "execute_result",
          "data": {
            "text/plain": [
              "<keras.callbacks.History at 0x7fb1f01f9050>"
            ]
          },
          "metadata": {},
          "execution_count": 7
        }
      ]
    },
    {
      "cell_type": "code",
      "source": [
        "x_range = [-10, 10]\n",
        "plt.figure(figsize=[10, 10]) \n",
        "plt.clf();\n",
        "plt.plot(x_train, y_train, 'b.', label='observed');\n",
        "\n",
        "y_preds = [model(x_val) for _ in range(100)]\n",
        "avgm = np.zeros_like(x_val[..., 0])\n",
        "for i, yhat in enumerate(y_preds):\n",
        "  m = np.squeeze(yhat.mean())\n",
        "  s = np.squeeze(yhat.stddev())\n",
        "  if i < 15:\n",
        "    plt.plot(x_val, m, 'r', label='ensemble means' if i == 0 else None, linewidth=0.5)\n",
        "  avgm += m\n",
        "plt.plot(x_val, avgm/len(y_preds), 'g', label='overall mean', linewidth=4)\n",
        "plt.xticks(fontsize=20)\n",
        "plt.yticks(fontsize=20)\n",
        "plt.legend(loc='upper left', prop={'size': 20})"
      ],
      "metadata": {
        "colab": {
          "base_uri": "https://localhost:8080/",
          "height": 619
        },
        "id": "c2WUu1DgabWF",
        "outputId": "a0309972-4631-4424-dcec-dd3deb255150"
      },
      "execution_count": 8,
      "outputs": [
        {
          "output_type": "execute_result",
          "data": {
            "text/plain": [
              "<matplotlib.legend.Legend at 0x7fb1820da050>"
            ]
          },
          "metadata": {},
          "execution_count": 8
        },
        {
          "output_type": "display_data",
          "data": {
            "text/plain": [
              "<Figure size 720x720 with 1 Axes>"
            ],
            "image/png": "[encoded data removed]"
          },
          "metadata": {
            "needs_background": "light"
          }
        }
      ]
    },
    {
      "cell_type": "code",
      "source": [
        ""
      ],
      "metadata": {
        "id": "O50wwp3Iag9D"
      },
      "execution_count": 8,
      "outputs": []
    }
  ]
}