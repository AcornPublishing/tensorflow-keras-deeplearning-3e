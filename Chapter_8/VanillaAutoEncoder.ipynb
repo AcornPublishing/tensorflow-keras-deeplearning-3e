{
  "cells": [
    {
      "cell_type": "code",
      "execution_count": 1,
      "metadata": {
        "id": "zrxOdPebTco5"
      },
      "outputs": [],
      "source": [
        "import numpy as np\n",
        "import tensorflow as tf\n",
        "import tensorflow.keras as K\n",
        "import matplotlib.pyplot as plt"
      ]
    },
    {
      "cell_type": "code",
      "execution_count": 2,
      "metadata": {
        "id": "LiXC6JXETco7"
      },
      "outputs": [],
      "source": [
        "np.random.seed(11)\n",
        "tf.random.set_seed(11)\n",
        "batch_size = 256\n",
        "max_epochs = 50\n",
        "learning_rate = 1e-3\n",
        "momentum = 8e-1\n",
        "hidden_dim = 128\n",
        "original_dim = 784"
      ]
    },
    {
      "cell_type": "code",
      "execution_count": 3,
      "metadata": {
        "colab": {
          "base_uri": "https://localhost:8080/"
        },
        "id": "eMUF0vLlTco9",
        "outputId": "0df8a955-6219-448e-ce53-eaf33e5b8fa7"
      },
      "outputs": [
        {
          "output_type": "stream",
          "name": "stdout",
          "text": [
            "Downloading data from https://storage.googleapis.com/tensorflow/tf-keras-datasets/mnist.npz\n",
            "11493376/11490434 [==============================] - 0s 0us/step\n",
            "11501568/11490434 [==============================] - 0s 0us/step\n"
          ]
        }
      ],
      "source": [
        "(x_train, _), (x_test, _) = K.datasets.mnist.load_data()\n",
        "\n",
        "x_train = x_train / 255.\n",
        "x_test = x_test / 255.\n",
        "\n",
        "x_train = x_train.astype(np.float32)\n",
        "x_test = x_test.astype(np.float32)\n",
        "\n",
        "x_train = np.reshape(x_train, (x_train.shape[0], 784))\n",
        "x_test = np.reshape(x_test, (x_test.shape[0], 784))\n",
        "\n",
        "training_dataset = tf.data.Dataset.from_tensor_slices(x_train).batch(batch_size)"
      ]
    },
    {
      "cell_type": "code",
      "execution_count": 4,
      "metadata": {
        "id": "mXFx2bMUTco-"
      },
      "outputs": [],
      "source": [
        "\n",
        "class Encoder(K.layers.Layer):\n",
        "    def __init__(self, hidden_dim):\n",
        "        super(Encoder, self).__init__()\n",
        "        self.hidden_layer = K.layers.Dense(units=hidden_dim, activation=tf.nn.relu)\n",
        "        \n",
        "    \n",
        "    def call(self, input_features):\n",
        "        activation = self.hidden_layer(input_features)\n",
        "        return activation"
      ]
    },
    {
      "cell_type": "code",
      "execution_count": 5,
      "metadata": {
        "id": "gGKJlc_bTco_"
      },
      "outputs": [],
      "source": [
        "\n",
        "class Decoder(K.layers.Layer):\n",
        "    def __init__(self, hidden_dim, original_dim):\n",
        "        super(Decoder, self).__init__()\n",
        "        self.output_layer = K.layers.Dense(units=original_dim, activation=tf.nn.relu)\n",
        "  \n",
        "    def call(self, encoded):\n",
        "        activation = self.output_layer(encoded)\n",
        "        return activation "
      ]
    },
    {
      "cell_type": "code",
      "execution_count": 6,
      "metadata": {
        "id": "xCWqWjPcTcpA"
      },
      "outputs": [],
      "source": [
        "class Autoencoder(K.Model):\n",
        "    def __init__(self, hidden_dim, original_dim):\n",
        "        super(Autoencoder, self).__init__()\n",
        "        self.loss = []\n",
        "        self.encoder = Encoder(hidden_dim=hidden_dim)\n",
        "        self.decoder = Decoder(hidden_dim=hidden_dim, original_dim=original_dim)\n",
        "\n",
        "    def call(self, input_features):\n",
        "        encoded = self.encoder(input_features)\n",
        "        reconstructed = self.decoder(encoded)\n",
        "        return reconstructed"
      ]
    },
    {
      "cell_type": "code",
      "execution_count": 7,
      "metadata": {
        "id": "Nhy4ZPvFTcpA"
      },
      "outputs": [],
      "source": [
        "autoencoder = Autoencoder(hidden_dim=hidden_dim, original_dim=original_dim)\n",
        "opt = tf.optimizers.SGD(learning_rate=learning_rate, momentum=momentum)\n",
        "def loss(preds, real):\n",
        "    return tf.reduce_mean(tf.square(tf.subtract(preds, real)))\n",
        "\n",
        "def train(loss, model, opt, original):\n",
        "    with tf.GradientTape() as tape:\n",
        "        preds = model(original)\n",
        "        reconstruction_error = loss(preds, original)\n",
        "    gradients = tape.gradient(reconstruction_error, model.trainable_variables)\n",
        "    gradient_variables = zip(gradients, model.trainable_variables)\n",
        "    opt.apply_gradients(gradient_variables)\n",
        "  \n",
        "    return reconstruction_error"
      ]
    },
    {
      "cell_type": "code",
      "execution_count": 8,
      "metadata": {
        "id": "x533YAFWTcpC"
      },
      "outputs": [],
      "source": [
        "def train_loop(model, opt, loss, dataset, epochs=20):\n",
        "    for epoch in range(epochs):\n",
        "        epoch_loss = 0\n",
        "        for step, batch_features in enumerate(dataset):\n",
        "            loss_values = train(loss, model, opt, batch_features)\n",
        "            epoch_loss += loss_values\n",
        "        model.loss.append(epoch_loss)\n",
        "        print('Epoch {}/{}. Loss: {}'.format(epoch + 1, epochs, epoch_loss.numpy()))"
      ]
    },
    {
      "cell_type": "code",
      "execution_count": 9,
      "metadata": {
        "colab": {
          "base_uri": "https://localhost:8080/"
        },
        "id": "OmJsuqBKTcpD",
        "outputId": "82ccc988-d425-4e35-825a-02433511372b"
      },
      "outputs": [
        {
          "output_type": "stream",
          "name": "stdout",
          "text": [
            "Epoch 1/50. Loss: 5.158795356750488\n",
            "Epoch 2/50. Loss: 3.0751724243164062\n",
            "Epoch 3/50. Loss: 2.9574835300445557\n",
            "Epoch 4/50. Loss: 2.9055161476135254\n",
            "Epoch 5/50. Loss: 2.87841534614563\n",
            "Epoch 6/50. Loss: 2.8393068313598633\n",
            "Epoch 7/50. Loss: 2.826066493988037\n",
            "Epoch 8/50. Loss: 2.821895122528076\n",
            "Epoch 9/50. Loss: 2.852160930633545\n",
            "Epoch 10/50. Loss: 2.807100772857666\n",
            "Epoch 11/50. Loss: 2.8118016719818115\n",
            "Epoch 12/50. Loss: 2.811497688293457\n",
            "Epoch 13/50. Loss: 2.811824321746826\n",
            "Epoch 14/50. Loss: 2.8174896240234375\n",
            "Epoch 15/50. Loss: 2.7967369556427\n",
            "Epoch 16/50. Loss: 2.805511951446533\n",
            "Epoch 17/50. Loss: 2.7915103435516357\n",
            "Epoch 18/50. Loss: 2.8029065132141113\n",
            "Epoch 19/50. Loss: 2.7935240268707275\n",
            "Epoch 20/50. Loss: 2.794471263885498\n",
            "Epoch 21/50. Loss: 2.793509006500244\n",
            "Epoch 22/50. Loss: 2.8106918334960938\n",
            "Epoch 23/50. Loss: 2.795088052749634\n",
            "Epoch 24/50. Loss: 2.811030626296997\n",
            "Epoch 25/50. Loss: 2.7980599403381348\n",
            "Epoch 26/50. Loss: 2.7909412384033203\n",
            "Epoch 27/50. Loss: 2.8127174377441406\n",
            "Epoch 28/50. Loss: 2.8081088066101074\n",
            "Epoch 29/50. Loss: 2.770834445953369\n",
            "Epoch 30/50. Loss: 2.8026235103607178\n",
            "Epoch 31/50. Loss: 2.801159143447876\n",
            "Epoch 32/50. Loss: 2.781203508377075\n",
            "Epoch 33/50. Loss: 2.850271463394165\n",
            "Epoch 34/50. Loss: 2.81256103515625\n",
            "Epoch 35/50. Loss: 2.8006041049957275\n",
            "Epoch 36/50. Loss: 2.7784485816955566\n",
            "Epoch 37/50. Loss: 2.7928662300109863\n",
            "Epoch 38/50. Loss: 2.812906503677368\n",
            "Epoch 39/50. Loss: 2.7930636405944824\n",
            "Epoch 40/50. Loss: 2.8065478801727295\n",
            "Epoch 41/50. Loss: 2.8079276084899902\n",
            "Epoch 42/50. Loss: 2.805914878845215\n",
            "Epoch 43/50. Loss: 2.7804012298583984\n",
            "Epoch 44/50. Loss: 2.7939512729644775\n",
            "Epoch 45/50. Loss: 2.803565740585327\n",
            "Epoch 46/50. Loss: 2.7910079956054688\n",
            "Epoch 47/50. Loss: 2.803776264190674\n",
            "Epoch 48/50. Loss: 2.790198802947998\n",
            "Epoch 49/50. Loss: 2.786236047744751\n",
            "Epoch 50/50. Loss: 2.7854647636413574\n"
          ]
        }
      ],
      "source": [
        "autoencoder = Autoencoder(hidden_dim=hidden_dim, original_dim=original_dim)\n",
        "opt = tf.keras.optimizers.Adam(learning_rate=1e-2)\n",
        "\n",
        "train_loop(autoencoder, opt, loss, training_dataset, epochs=max_epochs)"
      ]
    },
    {
      "cell_type": "code",
      "execution_count": 10,
      "metadata": {
        "colab": {
          "base_uri": "https://localhost:8080/",
          "height": 279
        },
        "id": "7Wav8gkiTcpE",
        "outputId": "86b79d63-9b38-4cd4-b022-ac25b7ea1b01"
      },
      "outputs": [
        {
          "output_type": "display_data",
          "data": {
            "image/png": "[encoded data removed]",
            "text/plain": [
              "<Figure size 432x288 with 1 Axes>"
            ]
          },
          "metadata": {
            "needs_background": "light"
          }
        }
      ],
      "source": [
        "\n",
        "plt.plot(range(max_epochs), autoencoder.loss)\n",
        "plt.xlabel('Epochs')\n",
        "plt.ylabel('Loss')\n",
        "plt.show()"
      ]
    },
    {
      "cell_type": "code",
      "execution_count": 11,
      "metadata": {
        "colab": {
          "base_uri": "https://localhost:8080/",
          "height": 248
        },
        "id": "AkKmKG1VTcpF",
        "outputId": "6f1bfddf-c8ae-4768-c556-d6bd4575a5bb"
      },
      "outputs": [
        {
          "output_type": "display_data",
          "data": {
            "image/png": "[encoded data removed]",
            "text/plain": [
              "<Figure size 1440x288 with 20 Axes>"
            ]
          },
          "metadata": {
            "needs_background": "light"
          }
        }
      ],
      "source": [
        "number = 10  # how many digits we will display\n",
        "plt.figure(figsize=(20, 4))\n",
        "for index in range(number):\n",
        "    # display original\n",
        "    ax = plt.subplot(2, number, index + 1)\n",
        "    plt.imshow(x_test[index].reshape(28, 28), cmap='gray')\n",
        "    ax.get_xaxis().set_visible(False)\n",
        "    ax.get_yaxis().set_visible(False)\n",
        "\n",
        "    # display reconstruction\n",
        "    ax = plt.subplot(2, number, index + 1 + number)\n",
        "    plt.imshow(autoencoder(x_test)[index].numpy().reshape(28, 28), cmap='gray')\n",
        "    ax.get_xaxis().set_visible(False)\n",
        "    ax.get_yaxis().set_visible(False)\n",
        "plt.show()"
      ]
    },
    {
      "cell_type": "code",
      "execution_count": 11,
      "metadata": {
        "id": "S_K_sa4TTcpH"
      },
      "outputs": [],
      "source": [
        ""
      ]
    }
  ],
  "metadata": {
    "kernelspec": {
      "display_name": "Python 3",
      "name": "python3"
    },
    "language_info": {
      "name": "python"
    },
    "colab": {
      "name": "VanillaAutoEncoder.ipynb",
      "provenance": []
    },
    "accelerator": "GPU"
  },
  "nbformat": 4,
  "nbformat_minor": 0
}