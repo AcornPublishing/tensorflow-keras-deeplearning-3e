{
  "cells": [
    {
      "cell_type": "code",
      "execution_count": 1,
      "metadata": {
        "id": "huutQVSwrbv9"
      },
      "outputs": [],
      "source": [
        "import numpy as np\n",
        "import tensorflow as tf\n",
        "import tensorflow.keras as K\n",
        "import matplotlib.pyplot as plt\n",
        "from tensorflow.keras.layers import Dense, Conv2D, MaxPooling2D, UpSampling2D"
      ]
    },
    {
      "cell_type": "code",
      "execution_count": 2,
      "metadata": {
        "id": "rgW8cOairbv_"
      },
      "outputs": [],
      "source": [
        "np.random.seed(11)\n",
        "tf.random.set_seed(11)\n",
        "batch_size = 128\n",
        "max_epochs = 50\n",
        "filters = [32,32,16]\n"
      ]
    },
    {
      "cell_type": "code",
      "execution_count": 3,
      "metadata": {
        "colab": {
          "base_uri": "https://localhost:8080/"
        },
        "id": "vPb5NiOcrbwB",
        "outputId": "13cbe120-1445-41a0-a8ee-c5d8cb9b069e"
      },
      "outputs": [
        {
          "output_type": "stream",
          "name": "stdout",
          "text": [
            "Downloading data from https://storage.googleapis.com/tensorflow/tf-keras-datasets/mnist.npz\n",
            "11493376/11490434 [==============================] - 0s 0us/step\n",
            "11501568/11490434 [==============================] - 0s 0us/step\n"
          ]
        }
      ],
      "source": [
        "(x_train, _), (x_test, _) = K.datasets.mnist.load_data()\n",
        "\n",
        "x_train = x_train / 255.\n",
        "x_test = x_test / 255.\n",
        "\n",
        "x_train = np.reshape(x_train, (len(x_train),28, 28, 1))\n",
        "x_test = np.reshape(x_test, (len(x_test), 28, 28, 1))\n",
        "\n",
        "noise = 0.5\n",
        "x_train_noisy = x_train + noise * np.random.normal(loc=0.0, scale=1.0, size=x_train.shape)\n",
        "x_test_noisy = x_test + noise * np.random.normal(loc=0.0, scale=1.0, size=x_test.shape)\n",
        "\n",
        "x_train_noisy = np.clip(x_train_noisy, 0, 1)\n",
        "x_test_noisy = np.clip(x_test_noisy, 0, 1)\n",
        "\n",
        "x_train_noisy = x_train_noisy.astype('float32')\n",
        "x_test_noisy = x_test_noisy.astype('float32')\n",
        "\n",
        "#print(x_test_noisy[1].dtype)\n"
      ]
    },
    {
      "cell_type": "code",
      "execution_count": 4,
      "metadata": {
        "id": "10gjVXStrbwC"
      },
      "outputs": [],
      "source": [
        "\n",
        "class Encoder(K.layers.Layer):\n",
        "    def __init__(self, filters):\n",
        "        super(Encoder, self).__init__()\n",
        "        self.conv1 = Conv2D(filters=filters[0], kernel_size=3, strides=1, activation='relu', padding='same')\n",
        "        self.conv2 = Conv2D(filters=filters[1], kernel_size=3, strides=1, activation='relu', padding='same')\n",
        "        self.conv3 = Conv2D(filters=filters[2], kernel_size=3, strides=1, activation='relu', padding='same')\n",
        "        self.pool = MaxPooling2D((2, 2), padding='same')\n",
        "               \n",
        "    \n",
        "    def call(self, input_features):\n",
        "        x = self.conv1(input_features)\n",
        "        #print(\"Ex1\", x.shape)\n",
        "        x = self.pool(x)\n",
        "        #print(\"Ex2\", x.shape)\n",
        "        x = self.conv2(x)\n",
        "        x = self.pool(x)\n",
        "        x = self.conv3(x)\n",
        "        x = self.pool(x)\n",
        "        return x"
      ]
    },
    {
      "cell_type": "code",
      "execution_count": 5,
      "metadata": {
        "id": "OEjWhvjqrbwD"
      },
      "outputs": [],
      "source": [
        "\n",
        "class Decoder(K.layers.Layer):\n",
        "    def __init__(self, filters):\n",
        "        super(Decoder, self).__init__()\n",
        "        self.conv1 = Conv2D(filters=filters[2], kernel_size=3, strides=1, activation='relu', padding='same')\n",
        "        self.conv2 = Conv2D(filters=filters[1], kernel_size=3, strides=1, activation='relu', padding='same')\n",
        "        self.conv3 = Conv2D(filters=filters[0], kernel_size=3, strides=1, activation='relu', padding='valid')\n",
        "        self.conv4 = Conv2D(1, 3, 1, activation='sigmoid', padding='same')\n",
        "        self.upsample = UpSampling2D((2, 2))\n",
        "  \n",
        "    def call(self, encoded):\n",
        "        x = self.conv1(encoded)\n",
        "        #print(\"dx1\", x.shape)\n",
        "        x = self.upsample(x)\n",
        "        #print(\"dx2\", x.shape)\n",
        "        x = self.conv2(x)\n",
        "        x = self.upsample(x)\n",
        "        x = self.conv3(x)\n",
        "        x = self.upsample(x)\n",
        "        return self.conv4(x)"
      ]
    },
    {
      "cell_type": "code",
      "execution_count": 6,
      "metadata": {
        "id": "vW2F7zkrrbwF"
      },
      "outputs": [],
      "source": [
        "class Autoencoder(K.Model):\n",
        "    def __init__(self, filters):\n",
        "        super(Autoencoder, self).__init__()\n",
        "        self.loss = []\n",
        "        self.encoder = Encoder(filters)\n",
        "        self.decoder = Decoder(filters)\n",
        "\n",
        "    def call(self, input_features):\n",
        "        #print(input_features.shape)\n",
        "        encoded = self.encoder(input_features)\n",
        "        #print(encoded.shape)\n",
        "        reconstructed = self.decoder(encoded)\n",
        "        #print(reconstructed.shape)\n",
        "        return reconstructed"
      ]
    },
    {
      "cell_type": "code",
      "execution_count": 7,
      "metadata": {
        "colab": {
          "base_uri": "https://localhost:8080/"
        },
        "id": "__T5RzFkrbwF",
        "outputId": "2118ed31-5565-4ecc-f97e-bb7b541c4ce6"
      },
      "outputs": [
        {
          "output_type": "stream",
          "name": "stdout",
          "text": [
            "Epoch 1/50\n",
            "469/469 [==============================] - 24s 25ms/step - loss: 0.2047 - val_loss: 0.1504\n",
            "Epoch 2/50\n",
            "469/469 [==============================] - 7s 16ms/step - loss: 0.1418 - val_loss: 0.1323\n",
            "Epoch 3/50\n",
            "469/469 [==============================] - 7s 16ms/step - loss: 0.1287 - val_loss: 0.1239\n",
            "Epoch 4/50\n",
            "469/469 [==============================] - 7s 16ms/step - loss: 0.1219 - val_loss: 0.1182\n",
            "Epoch 5/50\n",
            "469/469 [==============================] - 7s 16ms/step - loss: 0.1175 - val_loss: 0.1152\n",
            "Epoch 6/50\n",
            "469/469 [==============================] - 7s 16ms/step - loss: 0.1146 - val_loss: 0.1130\n",
            "Epoch 7/50\n",
            "469/469 [==============================] - 8s 16ms/step - loss: 0.1124 - val_loss: 0.1102\n",
            "Epoch 8/50\n",
            "469/469 [==============================] - 7s 16ms/step - loss: 0.1108 - val_loss: 0.1090\n",
            "Epoch 9/50\n",
            "469/469 [==============================] - 7s 16ms/step - loss: 0.1094 - val_loss: 0.1079\n",
            "Epoch 10/50\n",
            "469/469 [==============================] - 7s 16ms/step - loss: 0.1082 - val_loss: 0.1075\n",
            "Epoch 11/50\n",
            "469/469 [==============================] - 7s 16ms/step - loss: 0.1072 - val_loss: 0.1059\n",
            "Epoch 12/50\n",
            "469/469 [==============================] - 7s 16ms/step - loss: 0.1064 - val_loss: 0.1054\n",
            "Epoch 13/50\n",
            "469/469 [==============================] - 8s 18ms/step - loss: 0.1056 - val_loss: 0.1046\n",
            "Epoch 14/50\n",
            "469/469 [==============================] - 8s 17ms/step - loss: 0.1051 - val_loss: 0.1040\n",
            "Epoch 15/50\n",
            "469/469 [==============================] - 7s 16ms/step - loss: 0.1045 - val_loss: 0.1035\n",
            "Epoch 16/50\n",
            "469/469 [==============================] - 7s 16ms/step - loss: 0.1040 - val_loss: 0.1030\n",
            "Epoch 17/50\n",
            "469/469 [==============================] - 7s 16ms/step - loss: 0.1036 - val_loss: 0.1031\n",
            "Epoch 18/50\n",
            "469/469 [==============================] - 7s 16ms/step - loss: 0.1031 - val_loss: 0.1023\n",
            "Epoch 19/50\n",
            "469/469 [==============================] - 7s 16ms/step - loss: 0.1028 - val_loss: 0.1017\n",
            "Epoch 20/50\n",
            "469/469 [==============================] - 7s 16ms/step - loss: 0.1024 - val_loss: 0.1015\n",
            "Epoch 21/50\n",
            "469/469 [==============================] - 7s 16ms/step - loss: 0.1022 - val_loss: 0.1013\n",
            "Epoch 22/50\n",
            "469/469 [==============================] - 7s 16ms/step - loss: 0.1019 - val_loss: 0.1018\n",
            "Epoch 23/50\n",
            "469/469 [==============================] - 7s 16ms/step - loss: 0.1018 - val_loss: 0.1014\n",
            "Epoch 24/50\n",
            "469/469 [==============================] - 7s 16ms/step - loss: 0.1014 - val_loss: 0.1007\n",
            "Epoch 25/50\n",
            "469/469 [==============================] - 7s 16ms/step - loss: 0.1013 - val_loss: 0.1008\n",
            "Epoch 26/50\n",
            "469/469 [==============================] - 7s 16ms/step - loss: 0.1011 - val_loss: 0.1010\n",
            "Epoch 27/50\n",
            "469/469 [==============================] - 7s 16ms/step - loss: 0.1008 - val_loss: 0.1002\n",
            "Epoch 28/50\n",
            "469/469 [==============================] - 7s 16ms/step - loss: 0.1007 - val_loss: 0.1004\n",
            "Epoch 29/50\n",
            "469/469 [==============================] - 7s 16ms/step - loss: 0.1005 - val_loss: 0.0998\n",
            "Epoch 30/50\n",
            "469/469 [==============================] - 7s 16ms/step - loss: 0.1004 - val_loss: 0.0999\n",
            "Epoch 31/50\n",
            "469/469 [==============================] - 7s 16ms/step - loss: 0.1003 - val_loss: 0.1005\n",
            "Epoch 32/50\n",
            "469/469 [==============================] - 7s 16ms/step - loss: 0.1001 - val_loss: 0.1000\n",
            "Epoch 33/50\n",
            "469/469 [==============================] - 7s 16ms/step - loss: 0.0999 - val_loss: 0.0993\n",
            "Epoch 34/50\n",
            "469/469 [==============================] - 8s 16ms/step - loss: 0.0999 - val_loss: 0.0997\n",
            "Epoch 35/50\n",
            "469/469 [==============================] - 7s 16ms/step - loss: 0.0998 - val_loss: 0.0996\n",
            "Epoch 36/50\n",
            "469/469 [==============================] - 7s 16ms/step - loss: 0.0997 - val_loss: 0.0994\n",
            "Epoch 37/50\n",
            "469/469 [==============================] - 7s 16ms/step - loss: 0.0995 - val_loss: 0.0990\n",
            "Epoch 38/50\n",
            "469/469 [==============================] - 7s 16ms/step - loss: 0.0995 - val_loss: 0.0989\n",
            "Epoch 39/50\n",
            "469/469 [==============================] - 8s 16ms/step - loss: 0.0994 - val_loss: 0.0987\n",
            "Epoch 40/50\n",
            "469/469 [==============================] - 7s 16ms/step - loss: 0.0993 - val_loss: 0.0989\n",
            "Epoch 41/50\n",
            "469/469 [==============================] - 7s 16ms/step - loss: 0.0992 - val_loss: 0.0986\n",
            "Epoch 42/50\n",
            "469/469 [==============================] - 7s 16ms/step - loss: 0.0991 - val_loss: 0.0988\n",
            "Epoch 43/50\n",
            "469/469 [==============================] - 8s 16ms/step - loss: 0.0991 - val_loss: 0.0986\n",
            "Epoch 44/50\n",
            "469/469 [==============================] - 8s 16ms/step - loss: 0.0989 - val_loss: 0.0986\n",
            "Epoch 45/50\n",
            "469/469 [==============================] - 8s 16ms/step - loss: 0.0989 - val_loss: 0.0987\n",
            "Epoch 46/50\n",
            "469/469 [==============================] - 8s 16ms/step - loss: 0.0988 - val_loss: 0.0986\n",
            "Epoch 47/50\n",
            "469/469 [==============================] - 8s 16ms/step - loss: 0.0988 - val_loss: 0.0984\n",
            "Epoch 48/50\n",
            "469/469 [==============================] - 8s 16ms/step - loss: 0.0987 - val_loss: 0.0985\n",
            "Epoch 49/50\n",
            "469/469 [==============================] - 8s 16ms/step - loss: 0.0986 - val_loss: 0.0993\n",
            "Epoch 50/50\n",
            "469/469 [==============================] - 8s 16ms/step - loss: 0.0986 - val_loss: 0.0987\n"
          ]
        }
      ],
      "source": [
        "model = Autoencoder(filters)\n",
        "\n",
        "model.compile(loss='binary_crossentropy', optimizer='adam')\n",
        "\n",
        "loss = model.fit(x_train_noisy,\n",
        "                x_train,\n",
        "                validation_data=(x_test_noisy, x_test),\n",
        "                epochs=max_epochs,\n",
        "                batch_size=batch_size)"
      ]
    },
    {
      "cell_type": "code",
      "execution_count": 8,
      "metadata": {
        "colab": {
          "base_uri": "https://localhost:8080/",
          "height": 279
        },
        "id": "rvid4TwYrbwH",
        "outputId": "fa029a01-7daf-4028-d965-70e2c1ed78fc"
      },
      "outputs": [
        {
          "output_type": "display_data",
          "data": {
            "image/png": "[encoded data removed]",
            "text/plain": [
              "<Figure size 432x288 with 1 Axes>"
            ]
          },
          "metadata": {
            "needs_background": "light"
          }
        }
      ],
      "source": [
        "\n",
        "plt.plot(range(max_epochs), loss.history['loss'])\n",
        "plt.xlabel('Epochs')\n",
        "plt.ylabel('Loss')\n",
        "plt.show()"
      ]
    },
    {
      "cell_type": "code",
      "execution_count": 9,
      "metadata": {
        "colab": {
          "base_uri": "https://localhost:8080/",
          "height": 248
        },
        "id": "JU8yjR4JrbwI",
        "outputId": "f30cf71a-1a20-447f-ac8d-489f8e472b5f"
      },
      "outputs": [
        {
          "output_type": "display_data",
          "data": {
            "image/png": "[encoded data removed]",
            "text/plain": [
              "<Figure size 1440x288 with 20 Axes>"
            ]
          },
          "metadata": {
            "needs_background": "light"
          }
        }
      ],
      "source": [
        "number = 10  # how many digits we will display\n",
        "plt.figure(figsize=(20, 4))\n",
        "for index in range(number):\n",
        "    # display original\n",
        "    ax = plt.subplot(2, number, index + 1)\n",
        "    plt.imshow(x_test_noisy[index].reshape(28, 28), cmap='gray')\n",
        "    ax.get_xaxis().set_visible(False)\n",
        "    ax.get_yaxis().set_visible(False)\n",
        "\n",
        "    # display reconstruction\n",
        "    ax = plt.subplot(2, number, index + 1 + number)\n",
        "    plt.imshow(tf.reshape(model(x_test_noisy)[index], (28, 28)), cmap='gray')\n",
        "    ax.get_xaxis().set_visible(False)\n",
        "    ax.get_yaxis().set_visible(False)\n",
        "plt.show()"
      ]
    }
  ],
  "metadata": {
    "kernelspec": {
      "display_name": "Python 3",
      "name": "python3"
    },
    "language_info": {
      "name": "python"
    },
    "colab": {
      "name": "ConvolutionAutoencoder.ipynb",
      "provenance": []
    },
    "accelerator": "GPU"
  },
  "nbformat": 4,
  "nbformat_minor": 0
}