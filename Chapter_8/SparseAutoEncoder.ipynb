{
  "cells": [
    {
      "cell_type": "code",
      "execution_count": 1,
      "metadata": {
        "id": "9CwaNZBFSlqw"
      },
      "outputs": [],
      "source": [
        "import numpy as np\n",
        "import tensorflow as tf\n",
        "import tensorflow.keras as K\n",
        "import matplotlib.pyplot as plt\n",
        "from tensorflow.keras import regularizers"
      ]
    },
    {
      "cell_type": "code",
      "execution_count": 2,
      "metadata": {
        "id": "Zl7O8xFmSlqz"
      },
      "outputs": [],
      "source": [
        "np.random.seed(11)\n",
        "tf.random.set_seed(11)\n",
        "batch_size = 256\n",
        "max_epochs = 50\n",
        "learning_rate = 1e-3\n",
        "momentum = 8e-1\n",
        "hidden_dim = 128\n",
        "original_dim = 784"
      ]
    },
    {
      "cell_type": "code",
      "execution_count": 3,
      "metadata": {
        "colab": {
          "base_uri": "https://localhost:8080/"
        },
        "id": "I-X29AlGSlq2",
        "outputId": "2cb342e2-a220-4096-e374-9991236fcf63"
      },
      "outputs": [
        {
          "output_type": "stream",
          "name": "stdout",
          "text": [
            "Downloading data from https://storage.googleapis.com/tensorflow/tf-keras-datasets/mnist.npz\n",
            "11493376/11490434 [==============================] - 0s 0us/step\n",
            "11501568/11490434 [==============================] - 0s 0us/step\n"
          ]
        }
      ],
      "source": [
        "(x_train, _), (x_test, _) = K.datasets.mnist.load_data()\n",
        "\n",
        "x_train = x_train / 255.\n",
        "x_test = x_test / 255.\n",
        "\n",
        "x_train = x_train.astype(np.float32)\n",
        "x_test = x_test.astype(np.float32)\n",
        "\n",
        "x_train = np.reshape(x_train, (x_train.shape[0], 784))\n",
        "x_test = np.reshape(x_test, (x_test.shape[0], 784))\n",
        "\n",
        "training_dataset = tf.data.Dataset.from_tensor_slices(x_train).batch(batch_size)"
      ]
    },
    {
      "cell_type": "code",
      "execution_count": 4,
      "metadata": {
        "id": "sIG3LgINSlq4"
      },
      "outputs": [],
      "source": [
        "\n",
        "class SparseEncoder(K.layers.Layer):\n",
        "    def __init__(self, hidden_dim):\n",
        "        super(SparseEncoder, self).__init__()\n",
        "        self.hidden_layer = K.layers.Dense(units=hidden_dim, \n",
        "                    activation=tf.nn.relu, activity_regularizer=regularizers.l1(10e-5))\n",
        "        \n",
        "    \n",
        "    def call(self, input_features):\n",
        "        activation = self.hidden_layer(input_features)\n",
        "        return activation"
      ]
    },
    {
      "cell_type": "code",
      "execution_count": 5,
      "metadata": {
        "id": "nvPRVIpjSlq5"
      },
      "outputs": [],
      "source": [
        "\n",
        "class SparseDecoder(K.layers.Layer):\n",
        "    def __init__(self, hidden_dim, original_dim):\n",
        "        super(SparseDecoder, self).__init__()\n",
        "        self.output_layer = K.layers.Dense(units=original_dim, activation=tf.nn.relu)\n",
        "  \n",
        "    def call(self, encoded):\n",
        "        activation = self.output_layer(encoded)\n",
        "        return activation "
      ]
    },
    {
      "cell_type": "code",
      "execution_count": 6,
      "metadata": {
        "id": "lARDVsiBSlq7"
      },
      "outputs": [],
      "source": [
        "class SparseAutoencoder(K.Model):\n",
        "    def __init__(self, hidden_dim, original_dim):\n",
        "        super(SparseAutoencoder, self).__init__()\n",
        "        self.loss = []\n",
        "        self.encoder = SparseEncoder(hidden_dim=hidden_dim)\n",
        "        self.decoder = SparseDecoder(hidden_dim=hidden_dim, original_dim=original_dim)\n",
        "\n",
        "    def call(self, input_features):\n",
        "        encoded = self.encoder(input_features)\n",
        "        reconstructed = self.decoder(encoded)\n",
        "        return reconstructed"
      ]
    },
    {
      "cell_type": "code",
      "execution_count": 7,
      "metadata": {
        "id": "CQ5O6Xz1Slq8"
      },
      "outputs": [],
      "source": [
        "autoencoder = SparseAutoencoder(hidden_dim=hidden_dim, original_dim=original_dim)\n",
        "opt = tf.optimizers.SGD(learning_rate=learning_rate, momentum=momentum)\n",
        "\n",
        "def loss(preds, real):\n",
        "    return tf.reduce_mean(tf.square(tf.subtract(preds, real))) \n",
        "\n",
        "def train(loss, model, opt, original):\n",
        "    with tf.GradientTape() as tape:\n",
        "        preds = model(original)\n",
        "        reconstruction_error = loss(preds, original)\n",
        "    gradients = tape.gradient(reconstruction_error, model.trainable_variables)\n",
        "    gradient_variables = zip(gradients, model.trainable_variables)\n",
        "    opt.apply_gradients(gradient_variables)\n",
        "  \n",
        "    return reconstruction_error"
      ]
    },
    {
      "cell_type": "code",
      "execution_count": 8,
      "metadata": {
        "id": "qERcmX-gSlq-"
      },
      "outputs": [],
      "source": [
        "def train_loop(model, opt, loss, dataset, epochs=20):\n",
        "    for epoch in range(epochs):\n",
        "        epoch_loss = 0\n",
        "        for step, batch_features in enumerate(dataset):\n",
        "            loss_values = train(loss, model, opt, batch_features)\n",
        "            epoch_loss += loss_values\n",
        "        model.loss.append(epoch_loss)\n",
        "        print('Epoch {}/{}. Loss: {}'.format(epoch + 1, epochs, epoch_loss.numpy()))"
      ]
    },
    {
      "cell_type": "code",
      "execution_count": 9,
      "metadata": {
        "colab": {
          "base_uri": "https://localhost:8080/"
        },
        "id": "H1S72XNYSlq_",
        "outputId": "a371ae30-0758-432a-feca-edcae064a2e2"
      },
      "outputs": [
        {
          "output_type": "stream",
          "name": "stdout",
          "text": [
            "Epoch 1/50. Loss: 5.1587958335876465\n",
            "Epoch 2/50. Loss: 3.0754802227020264\n",
            "Epoch 3/50. Loss: 2.9578378200531006\n",
            "Epoch 4/50. Loss: 2.902768135070801\n",
            "Epoch 5/50. Loss: 2.8737621307373047\n",
            "Epoch 6/50. Loss: 2.868150234222412\n",
            "Epoch 7/50. Loss: 2.8591814041137695\n",
            "Epoch 8/50. Loss: 2.841956615447998\n",
            "Epoch 9/50. Loss: 2.8421523571014404\n",
            "Epoch 10/50. Loss: 2.825453281402588\n",
            "Epoch 11/50. Loss: 2.824692487716675\n",
            "Epoch 12/50. Loss: 2.816127300262451\n",
            "Epoch 13/50. Loss: 2.7946760654449463\n",
            "Epoch 14/50. Loss: 2.793262243270874\n",
            "Epoch 15/50. Loss: 2.78263258934021\n",
            "Epoch 16/50. Loss: 2.7990469932556152\n",
            "Epoch 17/50. Loss: 2.7821526527404785\n",
            "Epoch 18/50. Loss: 2.766003131866455\n",
            "Epoch 19/50. Loss: 2.78568434715271\n",
            "Epoch 20/50. Loss: 2.7810020446777344\n",
            "Epoch 21/50. Loss: 2.784510612487793\n",
            "Epoch 22/50. Loss: 2.7613911628723145\n",
            "Epoch 23/50. Loss: 2.782315731048584\n",
            "Epoch 24/50. Loss: 2.7735226154327393\n",
            "Epoch 25/50. Loss: 2.79789662361145\n",
            "Epoch 26/50. Loss: 2.762590169906616\n",
            "Epoch 27/50. Loss: 2.8043038845062256\n",
            "Epoch 28/50. Loss: 2.7781097888946533\n",
            "Epoch 29/50. Loss: 2.7538812160491943\n",
            "Epoch 30/50. Loss: 2.7984564304351807\n",
            "Epoch 31/50. Loss: 2.7639100551605225\n",
            "Epoch 32/50. Loss: 2.770054578781128\n",
            "Epoch 33/50. Loss: 2.7842397689819336\n",
            "Epoch 34/50. Loss: 2.796147584915161\n",
            "Epoch 35/50. Loss: 2.7590126991271973\n",
            "Epoch 36/50. Loss: 2.770280599594116\n",
            "Epoch 37/50. Loss: 2.75842022895813\n",
            "Epoch 38/50. Loss: 2.7988779544830322\n",
            "Epoch 39/50. Loss: 2.7554867267608643\n",
            "Epoch 40/50. Loss: 2.7893588542938232\n",
            "Epoch 41/50. Loss: 2.7740509510040283\n",
            "Epoch 42/50. Loss: 2.782309055328369\n",
            "Epoch 43/50. Loss: 2.7725584506988525\n",
            "Epoch 44/50. Loss: 2.781611680984497\n",
            "Epoch 45/50. Loss: 2.796462059020996\n",
            "Epoch 46/50. Loss: 2.765658378601074\n",
            "Epoch 47/50. Loss: 2.751145601272583\n",
            "Epoch 48/50. Loss: 2.777538537979126\n",
            "Epoch 49/50. Loss: 2.7776002883911133\n",
            "Epoch 50/50. Loss: 2.7515852451324463\n"
          ]
        }
      ],
      "source": [
        "model = SparseAutoencoder(hidden_dim=hidden_dim, original_dim=original_dim)\n",
        "opt = tf.keras.optimizers.Adam(learning_rate=1e-2)\n",
        "\n",
        "train_loop(model, opt, loss, training_dataset, epochs=max_epochs)"
      ]
    },
    {
      "cell_type": "code",
      "execution_count": 10,
      "metadata": {
        "colab": {
          "base_uri": "https://localhost:8080/",
          "height": 279
        },
        "id": "C3wDXcIrSlrC",
        "outputId": "c1645514-b7ab-4a53-c624-04c558d39fda"
      },
      "outputs": [
        {
          "output_type": "display_data",
          "data": {
            "image/png": "[encoded data removed]",
            "text/plain": [
              "<Figure size 432x288 with 1 Axes>"
            ]
          },
          "metadata": {
            "needs_background": "light"
          }
        }
      ],
      "source": [
        "\n",
        "plt.plot(range(max_epochs), model.loss)\n",
        "plt.xlabel('Epochs')\n",
        "plt.ylabel('Loss')\n",
        "plt.show()"
      ]
    },
    {
      "cell_type": "code",
      "execution_count": 11,
      "metadata": {
        "colab": {
          "base_uri": "https://localhost:8080/",
          "height": 248
        },
        "id": "Eg8PDQYoSlrD",
        "outputId": "d2c53cf5-9b93-4fa7-e983-3ce53563c626"
      },
      "outputs": [
        {
          "output_type": "display_data",
          "data": {
            "image/png": "[encoded data removed]",
            "text/plain": [
              "<Figure size 1440x288 with 20 Axes>"
            ]
          },
          "metadata": {
            "needs_background": "light"
          }
        }
      ],
      "source": [
        "number = 10  # how many digits we will display\n",
        "plt.figure(figsize=(20, 4))\n",
        "for index in range(number):\n",
        "    # display original\n",
        "    ax = plt.subplot(2, number, index + 1)\n",
        "    plt.imshow(x_test[index].reshape(28, 28), cmap='gray')\n",
        "    ax.get_xaxis().set_visible(False)\n",
        "    ax.get_yaxis().set_visible(False)\n",
        "\n",
        "    # display reconstruction\n",
        "    ax = plt.subplot(2, number, index + 1 + number)\n",
        "    plt.imshow(model(x_test)[index].numpy().reshape(28, 28), cmap='gray')\n",
        "    ax.get_xaxis().set_visible(False)\n",
        "    ax.get_yaxis().set_visible(False)\n",
        "plt.show()"
      ]
    },
    {
      "cell_type": "code",
      "execution_count": 11,
      "metadata": {
        "id": "NG1VuO6bSlrG"
      },
      "outputs": [],
      "source": [
        ""
      ]
    }
  ],
  "metadata": {
    "kernelspec": {
      "display_name": "Python 3",
      "name": "python3"
    },
    "language_info": {
      "name": "python"
    },
    "colab": {
      "name": "SparseAutoEncoder.ipynb",
      "provenance": []
    },
    "accelerator": "GPU"
  },
  "nbformat": 4,
  "nbformat_minor": 0
}